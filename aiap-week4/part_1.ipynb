{
 "cells": [
  {
   "cell_type": "markdown",
   "metadata": {},
   "source": [
    "# Part 1. Initial assignment exploration"
   ]
  },
  {
   "cell_type": "markdown",
   "metadata": {},
   "source": [
    "## CIFAR-10 Data Loading and Preprocessing "
   ]
  },
  {
   "cell_type": "markdown",
   "metadata": {},
   "source": [
    "In this week, we will be using thie CIFAR-10 dataset. Instead of drawing the data from an existing source, we will work with the initial release from the [site where CIFAR-10 is hosted](https://www.cs.toronto.edu/~kriz/cifar.html). Sufficient documentation should be present in the page. Instead of extracting the data manually with your mouse, first, write a simple script to download, extract and move the data into a appropriate folder. Also spare a thought for how you might want to not store this data in your git repository."
   ]
  },
  {
   "cell_type": "code",
   "execution_count": 1,
   "metadata": {},
   "outputs": [],
   "source": [
    "%matplotlib inline\n",
    "import numpy as np\n",
    "import matplotlib.pyplot as plt\n",
    "import seaborn as sns\n",
    "import requests\n",
    "from pathlib import Path\n",
    "import tarfile\n",
    "import pickle\n",
    "from sklearn.model_selection import train_test_split, cross_val_score, StratifiedKFold\n",
    "from sklearn.neighbors import KNeighborsClassifier\n",
    "from sklearn.model_selection import GridSearchCV\n",
    "from matplotlib.legend_handler import HandlerLine2D\n",
    "from sklearn.metrics import accuracy_score"
   ]
  },
  {
   "cell_type": "code",
   "execution_count": 2,
   "metadata": {},
   "outputs": [],
   "source": [
    "data_folder = Path(\"data/raw/\")\n",
    "file_to_open = data_folder / \"cifar-10-python.tar.gz\""
   ]
  },
  {
   "cell_type": "markdown",
   "metadata": {},
   "source": [
    "#### For downloading and unzipping of files. Uncomment code and run if needed."
   ]
  },
  {
   "cell_type": "code",
   "execution_count": 3,
   "metadata": {},
   "outputs": [],
   "source": [
    "# file_url = \"https://www.cs.toronto.edu/~kriz/cifar-10-python.tar.gz\"\n",
    "\n",
    "# # URL of the file to be downloaded is defined as file_url \n",
    "# r = requests.get(file_url) # create HTTP response object \n",
    "  \n",
    "# # send a HTTP request to the server and save \n",
    "# # the HTTP response in a response object called r \n",
    "# with open(file_to_open,'wb') as f: \n",
    "  \n",
    "#     # Saving received content in \n",
    "#     # binary format \n",
    "  \n",
    "#     # write the contents of the response (r.content) \n",
    "#     # to a new file in binary mode. \n",
    "#     f.write(r.content) "
   ]
  },
  {
   "cell_type": "code",
   "execution_count": 4,
   "metadata": {},
   "outputs": [],
   "source": [
    "# tar = tarfile.open(file_to_open, \"r:gz\")\n",
    "# tar.extractall(path=data_folder)\n",
    "# tar.close()"
   ]
  },
  {
   "cell_type": "markdown",
   "metadata": {},
   "source": [
    "Next, write a simple script to load and transform multiple pieces of the dataset into a simple vector stored in memory. You should end with both train and test data. You can also split the data into train, val, and test sets. "
   ]
  },
  {
   "cell_type": "code",
   "execution_count": 5,
   "metadata": {},
   "outputs": [],
   "source": [
    "def unpickle(file):\n",
    "    with open(file, 'rb') as fo:\n",
    "        dict = pickle.load(fo, encoding='bytes')\n",
    "    return dict"
   ]
  },
  {
   "cell_type": "code",
   "execution_count": 6,
   "metadata": {},
   "outputs": [],
   "source": [
    "def getRawDictionary(fileName):\n",
    "    batch = data_folder / \"cifar-10-batches-py\" / fileName\n",
    "    data = unpickle(batch)\n",
    "    return data\n",
    "\n",
    "train_imgs = []\n",
    "train_labels = []\n",
    "test_imgs = []\n",
    "test_labels = []\n",
    "\n",
    "for i in range(1,6):\n",
    "    data_batch = getRawDictionary(\"data_batch_\" + str(i))\n",
    "    if i == 1:\n",
    "        train_imgs = data_batch[b'data']\n",
    "        train_labels = np.asarray(data_batch[b'labels'])\n",
    "    else:\n",
    "        train_imgs = np.concatenate((train_imgs, data_batch[b'data']), axis=0)\n",
    "        train_labels = np.concatenate((train_labels, np.asarray(data_batch[b'labels'])), axis=0)\n",
    "    \n",
    "test_batch = getRawDictionary(\"test_batch\")\n",
    "test_imgs = test_batch[b'data']\n",
    "test_labels= np.asarray(test_batch[b'labels'])"
   ]
  },
  {
   "cell_type": "code",
   "execution_count": 7,
   "metadata": {},
   "outputs": [],
   "source": [
    "train_imgs = train_imgs / 255.0\n",
    "test_imgs = test_imgs / 255.0"
   ]
  },
  {
   "cell_type": "code",
   "execution_count": 8,
   "metadata": {},
   "outputs": [
    {
     "data": {
      "text/plain": [
       "[b'airplane',\n",
       " b'automobile',\n",
       " b'bird',\n",
       " b'cat',\n",
       " b'deer',\n",
       " b'dog',\n",
       " b'frog',\n",
       " b'horse',\n",
       " b'ship',\n",
       " b'truck']"
      ]
     },
     "execution_count": 8,
     "metadata": {},
     "output_type": "execute_result"
    }
   ],
   "source": [
    "label_dict = getRawDictionary(\"batches.meta\")\n",
    "label_names = label_dict[b'label_names']\n",
    "label_names"
   ]
  },
  {
   "cell_type": "markdown",
   "metadata": {},
   "source": [
    "Finally, visualize some examples from the dataset. For each label class present, visualise a few images at random to see what our data looks like. Depending on the data type, you also may need to do some image pre-processing by reshaping the image data into rows."
   ]
  },
  {
   "cell_type": "code",
   "execution_count": 9,
   "metadata": {},
   "outputs": [
    {
     "name": "stdout",
     "output_type": "stream",
     "text": [
      "b'cat'\n"
     ]
    },
    {
     "data": {
      "image/png": "[encoded data removed]",
      "text/plain": [
       "<Figure size 432x288 with 1 Axes>"
      ]
     },
     "metadata": {},
     "output_type": "display_data"
    }
   ],
   "source": [
    "def drawImage(image_index):\n",
    "    print(label_names[train_labels[image_index]])\n",
    "    \n",
    "    #visualizing train sample\n",
    "    temp = train_imgs[image_index]\n",
    "    \n",
    "    # Since every row represents one example to re-map it to image we have to form three 32,32 matrix,\n",
    "    #representing RGB values\n",
    "    \n",
    "    R = temp[0:1024].reshape(32,32)\n",
    "    G = np.reshape(temp[1024:2048],newshape=(32,32))\n",
    "    B = np.reshape(temp[2048:],newshape=(32,32))\n",
    "    temp = np.dstack((R,G,B))   #for stacking all these 32,32 matrices.\n",
    "    plt.imshow(temp)\n",
    "    plt.show()\n",
    "\n",
    "# Change the index to visualise different images in the dataframe\n",
    "image_index = 17 \n",
    "drawImage(image_index)"
   ]
  },
  {
   "cell_type": "markdown",
   "metadata": {},
   "source": [
    "## k-Nearest Neighbor (kNN) exercise"
   ]
  },
  {
   "cell_type": "markdown",
   "metadata": {},
   "source": [
    "In here, you will need to implement a KNN (K-nearest neighbours) classifier for the CIFAR-10 dataset. Apply best k-fold cross validation to find the best K and L (Euclidean or Manhattan distance) pair by plotting the resulting average accuracies and standard deviations and choosing the pair which produces the highest average accuracy first and lowest standard deviation second. Use this pair to find the accuracy per class and average accuracy on the testing set. Find out if grayscalse would produce a better accuracy than colored.\n",
    "\n",
    "The kNN classifier consists of two stages:\n",
    "\n",
    "- During training, the classifier takes the training data and simply remembers it\n",
    "- During testing, kNN classifies every test image by comparing to all training images and transfering the labels of the k most similar training examples\n",
    "- The value of k is cross-validated\n",
    "\n",
    "In this part of exercise, you will implement these steps and understand the basic image classification pipeline, cross-validation, and gain proficiency in writing efficient, vectorized code.\n",
    "\n",
    "As a bonus, you may also wish to try manually creating features that you can put into such a classifier."
   ]
  },
  {
   "cell_type": "code",
   "execution_count": 10,
   "metadata": {},
   "outputs": [],
   "source": [
    "def toGrayScale(imgs):\n",
    "    R = imgs[:,0:1024]\n",
    "    G = imgs[:,1024:2048]\n",
    "    B = imgs[:,2048:]\n",
    "\n",
    "    imgs_grey = (R + G + B)/3\n",
    "    return imgs_grey\n",
    "\n",
    "train_imgs_grey = toGrayScale(train_imgs)\n",
    "test_imgs_grey = toGrayScale(test_imgs)"
   ]
  },
  {
   "cell_type": "code",
   "execution_count": 11,
   "metadata": {},
   "outputs": [],
   "source": [
    "# Subsetting dataset due to processing power limitation\n",
    "sub_train_imgs = train_imgs[0:10000]\n",
    "sub_train_labels = train_labels[0:10000]\n",
    "sub_train_imgs_grey = train_imgs_grey[0:10000]"
   ]
  },
  {
   "cell_type": "code",
   "execution_count": 12,
   "metadata": {},
   "outputs": [],
   "source": [
    "train_results_manhattan = []\n",
    "train_std_manhattan = []\n",
    "train_results_euclidean = []\n",
    "train_std_euclidean = []\n",
    "\n",
    "k_list = [5,10,15,20,25,30]\n",
    "\n",
    "for k in k_list:\n",
    "    knn = KNeighborsClassifier(n_neighbors=k, p=1)\n",
    "    stratifiedKFold = StratifiedKFold(n_splits=5, shuffle=True, random_state=0)\n",
    "    cv_score = cross_val_score(estimator=knn, X=sub_train_imgs, y=sub_train_labels, scoring='accuracy', cv=stratifiedKFold, n_jobs=-1)\n",
    "    train_results_manhattan.append(np.mean(cv_score))\n",
    "    train_std_manhattan.append(np.std(cv_score))\n",
    "\n",
    "for k in k_list:\n",
    "    knn = KNeighborsClassifier(n_neighbors=k, p=2)\n",
    "    stratifiedKFold = StratifiedKFold(n_splits=5, shuffle=True, random_state=0)\n",
    "    cv_score = cross_val_score(estimator=knn, X=sub_train_imgs, y=sub_train_labels, scoring='accuracy', cv=stratifiedKFold, n_jobs=-1)\n",
    "    train_results_euclidean.append(np.mean(cv_score))\n",
    "    train_std_euclidean.append(np.std(cv_score))"
   ]
  },
  {
   "cell_type": "markdown",
   "metadata": {},
   "source": [
    "Provide some reporting and visualization of KNN results in CIFAR-10"
   ]
  },
  {
   "cell_type": "code",
   "execution_count": 13,
   "metadata": {},
   "outputs": [
    {
     "data": {
      "image/png": "[encoded data removed]",
      "text/plain": [
       "<Figure size 432x288 with 1 Axes>"
      ]
     },
     "metadata": {},
     "output_type": "display_data"
    }
   ],
   "source": [
    "line1, = plt.plot(k_list, train_results_manhattan, 'b', label='Manhattan')\n",
    "line2, = plt.plot(k_list, train_results_euclidean, 'r', label='Euclidean')\n",
    "\n",
    "plt.legend(handler_map={line1: HandlerLine2D(numpoints=2)})\n",
    "\n",
    "plt.ylabel('Mean Accuracy')\n",
    "plt.xlabel('Number of K')\n",
    "plt.show()"
   ]
  },
  {
   "cell_type": "code",
   "execution_count": 14,
   "metadata": {},
   "outputs": [
    {
     "data": {
      "image/png": "[encoded data removed]",
      "text/plain": [
       "<Figure size 432x288 with 1 Axes>"
      ]
     },
     "metadata": {},
     "output_type": "display_data"
    }
   ],
   "source": [
    "line1, = plt.plot(k_list, train_std_manhattan, 'b', label='Manhattan')\n",
    "line2, = plt.plot(k_list, train_std_euclidean, 'r', label='Euclidean')\n",
    "\n",
    "plt.legend(handler_map={line1: HandlerLine2D(numpoints=2)})\n",
    "\n",
    "plt.ylabel('Standard Deviation')\n",
    "plt.xlabel('Number of K')\n",
    "plt.show()"
   ]
  },
  {
   "cell_type": "code",
   "execution_count": 15,
   "metadata": {},
   "outputs": [
    {
     "data": {
      "text/plain": [
       "0.324"
      ]
     },
     "execution_count": 15,
     "metadata": {},
     "output_type": "execute_result"
    }
   ],
   "source": [
    "# Color Dataset\n",
    "neighbor = KNeighborsClassifier(n_neighbors=10, p=1)\n",
    "neighbor.fit(sub_train_imgs,sub_train_labels)\n",
    "neighbor.score(test_imgs,test_labels)"
   ]
  },
  {
   "cell_type": "code",
   "execution_count": 16,
   "metadata": {},
   "outputs": [
    {
     "data": {
      "text/plain": [
       "0.2764"
      ]
     },
     "execution_count": 16,
     "metadata": {},
     "output_type": "execute_result"
    }
   ],
   "source": [
    "# Grayscale Dataset\n",
    "neighbor_gray = KNeighborsClassifier(n_neighbors=10, p=1)\n",
    "neighbor_gray.fit(sub_train_imgs_grey,sub_train_labels)\n",
    "neighbor_gray.score(test_imgs_grey,test_labels)"
   ]
  },
  {
   "cell_type": "code",
   "execution_count": null,
   "metadata": {},
   "outputs": [],
   "source": []
  }
 ],
 "metadata": {
  "kernelspec": {
   "display_name": "Python 3",
   "language": "python",
   "name": "python3"
  },
  "language_info": {
   "codemirror_mode": {
    "name": "ipython",
    "version": 3
   },
   "file_extension": ".py",
   "mimetype": "text/x-python",
   "name": "python",
   "nbconvert_exporter": "python",
   "pygments_lexer": "ipython3",
   "version": "3.6.5"
  }
 },
 "nbformat": 4,
 "nbformat_minor": 1
}
