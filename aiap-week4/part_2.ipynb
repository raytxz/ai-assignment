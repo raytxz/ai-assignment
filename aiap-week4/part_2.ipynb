{
 "cells": [
  {
   "cell_type": "markdown",
   "metadata": {},
   "source": [
    "# Part 2. Deep Learning Frameworks"
   ]
  },
  {
   "cell_type": "markdown",
   "metadata": {},
   "source": [
    "Before we go into deep learning modelling, we will first need to have a quick familiarisation with a deep learning framework. We recommend __[Keras](https://keras.io)__, which is built on top of Tensorflow, but alternatively, you can consider __[PyTorch](https://pytorch.org)__. Resources are abundant online on how to use them, but here are some official guides to get you started:\n",
    "- PyTorch has a [60 Minute Blitz Guide](https://pytorch.org/tutorials/beginner/blitz/tensor_tutorial.html)\n",
    "- Tensorflow has an [Intro to Keras guide](https://www.tensorflow.org/guide/keras)\n",
    "\n",
    "A few words on the difference between Keras and PyTorch - Keras is a high level wrapper on top of Google's Tensorflow, the most popular deep learning framework out there. Being more low level, Tensorflow faces many issues and troubles, which are addressed by the abstractions of Keras, making it a great way to start. Facebook's PyTorch on the other hand is a newcomer which has received massive interest in recent years, and is playing catch up to Tensorflow/Keras.\n",
    "\n",
    "If you are more interested in how deep learning software has evolved since the days of Caffe and Theano as well as more in depth into what is happening in the software behind the scenes, we also recommend a [full lecture from Stanford](https://www.youtube.com/watch?v=6SlgtELqOWc) on this topic, although this is extra knowledge that isn't fully critical to this week."
   ]
  },
  {
   "cell_type": "markdown",
   "metadata": {},
   "source": [
    "Base on the tutorials you go through, you should be ready to build a 2 (or more) layer Multi-Level Perceptron (MLP) with deep learning. With the dataset you have prepared your machine learning model in the previous section, run your data through a MLP model with `Dense` (`Linear`) layers instead. Do some slight model adjustments, and discuss what kind of adjustments lead to improvements in score."
   ]
  },
  {
   "cell_type": "code",
   "execution_count": 1,
   "metadata": {},
   "outputs": [
    {
     "name": "stderr",
     "output_type": "stream",
     "text": [
      "C:\\Users\\Raymond\\Anaconda3\\lib\\site-packages\\h5py\\__init__.py:36: FutureWarning: Conversion of the second argument of issubdtype from `float` to `np.floating` is deprecated. In future, it will be treated as `np.float64 == np.dtype(float).type`.\n",
      "  from ._conv import register_converters as _register_converters\n"
     ]
    },
    {
     "name": "stdout",
     "output_type": "stream",
     "text": [
      "1.12.0\n",
      "2.1.6-tf\n"
     ]
    },
    {
     "name": "stderr",
     "output_type": "stream",
     "text": [
      "Using TensorFlow backend.\n"
     ]
    }
   ],
   "source": [
    "import matplotlib.pyplot as plt\n",
    "%matplotlib inline\n",
    "import numpy as np\n",
    "import seaborn as sns\n",
    "from pathlib import Path\n",
    "import tarfile\n",
    "import pickle\n",
    "import requests\n",
    "from sklearn.metrics import accuracy_score\n",
    "import tensorflow as tf\n",
    "from tensorflow.keras import layers\n",
    "from keras.callbacks import EarlyStopping\n",
    "from keras.optimizers import SGD\n",
    "from keras.layers import Dense\n",
    "from keras.models import Sequential\n",
    "from keras.utils import to_categorical\n",
    "\n",
    "print(tf.VERSION)\n",
    "print(tf.keras.__version__)"
   ]
  },
  {
   "cell_type": "markdown",
   "metadata": {},
   "source": [
    "## 1. Data transformations/preprocessing\n",
    "\n",
    "Most neural networks expect the images of a fixed size. Therefore, you will need to write some prepocessing code. At the basic level, you will need to normalise the data. Use the appropriate data generator/loader methods to encapsulate your data for training purposes. Do the same for both the train and test (and val, if exist) sets."
   ]
  },
  {
   "cell_type": "code",
   "execution_count": 2,
   "metadata": {},
   "outputs": [],
   "source": [
    "data_folder = Path(\"data/raw/\")\n",
    "file_to_open = data_folder / \"cifar-10-python.tar.gz\"\n",
    "\n",
    "def unpickle(file):\n",
    "    with open(file, 'rb') as fo:\n",
    "        dict = pickle.load(fo, encoding='bytes')\n",
    "    return dict\n",
    "\n",
    "def getRawDictionary(fileName):\n",
    "    batch = data_folder / \"cifar-10-batches-py\" / fileName\n",
    "    data = unpickle(batch)\n",
    "    return data\n",
    "\n",
    "train_imgs = []\n",
    "train_labels = []\n",
    "test_imgs = []\n",
    "test_labels = []\n",
    "\n",
    "for i in range(1,6):\n",
    "    data_batch = getRawDictionary(\"data_batch_\" + str(i))\n",
    "    if i == 1:\n",
    "        train_imgs = data_batch[b'data']\n",
    "        train_labels = np.asarray(data_batch[b'labels'])\n",
    "    else:\n",
    "        train_imgs = np.concatenate((train_imgs, data_batch[b'data']), axis=0)\n",
    "        train_labels = np.concatenate((train_labels, np.asarray(data_batch[b'labels'])), axis=0)\n",
    "#         train_imgs = numpy.append(train_imgs, data_batch[b'data'], axis=0)\n",
    "#         train_labels = numpy.append(train_labels, np.asarray(data_batch[b'labels']), axis=0)\n",
    "    \n",
    "test_batch = getRawDictionary(\"test_batch\")\n",
    "test_imgs = test_batch[b'data']\n",
    "test_labels= np.asarray(test_batch[b'labels'])\n",
    "\n",
    "label_dict = getRawDictionary(\"batches.meta\")\n",
    "label_names = label_dict[b'label_names']"
   ]
  },
  {
   "cell_type": "code",
   "execution_count": 3,
   "metadata": {},
   "outputs": [
    {
     "name": "stdout",
     "output_type": "stream",
     "text": [
      "(50000, 3072)\n",
      "(10000, 3072)\n"
     ]
    }
   ],
   "source": [
    "print(train_imgs.shape)\n",
    "print(test_imgs.shape)"
   ]
  },
  {
   "cell_type": "code",
   "execution_count": 4,
   "metadata": {},
   "outputs": [],
   "source": [
    "train_labels_encoded = to_categorical(train_labels)\n",
    "test_labels_encoded = to_categorical(test_labels)"
   ]
  },
  {
   "cell_type": "code",
   "execution_count": 5,
   "metadata": {},
   "outputs": [],
   "source": [
    "train_imgs = train_imgs / 255.0\n",
    "test_imgs = test_imgs / 255.0\n",
    "\n",
    "def toGrayScale(imgs):\n",
    "    R = imgs[:,0:1024]\n",
    "    G = imgs[:,1024:2048]\n",
    "    B = imgs[:,2048:]\n",
    "\n",
    "    imgs_grey = (R + G + B)/3\n",
    "    return imgs_grey\n",
    "\n",
    "train_imgs_grey = toGrayScale(train_imgs)\n",
    "test_imgs_grey = toGrayScale(test_imgs)"
   ]
  },
  {
   "cell_type": "code",
   "execution_count": 6,
   "metadata": {},
   "outputs": [
    {
     "data": {
      "image/png": "[encoded data removed]",
      "text/plain": [
       "<Figure size 432x288 with 1 Axes>"
      ]
     },
     "metadata": {},
     "output_type": "display_data"
    }
   ],
   "source": [
    "def drawGrayScale(img, img_index):\n",
    "    plt.imshow(img[17,:].reshape(32,32), cmap='gray')\n",
    "    plt.show()\n",
    "    \n",
    "drawGrayScale(train_imgs_grey, 17)"
   ]
  },
  {
   "cell_type": "markdown",
   "metadata": {},
   "source": [
    "## 2.  Build multi-layer perceptron neural network models with Keras \n",
    "\n",
    "The Keras Python library for deep learning focuses on the creation of models as a sequence of layers.\n",
    "\n",
    "In here, you will discover the simple components that you can use to create neural networks and simple deep learning models using Keras."
   ]
  },
  {
   "cell_type": "code",
   "execution_count": 7,
   "metadata": {},
   "outputs": [],
   "source": [
    "n_cols = train_imgs_grey.shape[1]\n",
    "\n",
    "model = Sequential()\n",
    "model.add(Dense(100, activation='relu',input_shape=(n_cols,)))\n",
    "model.add(Dense(100, activation='relu'))\n",
    "model.add(Dense(100, activation='relu'))\n",
    "model.add(Dense(10, activation='softmax'))\n",
    "\n",
    "model.compile(optimizer='adam',\n",
    "              loss='categorical_crossentropy',\n",
    "              metrics=['accuracy'])\n",
    "\n",
    "early_stopping_monitor = EarlyStopping(patience=3)"
   ]
  },
  {
   "cell_type": "code",
   "execution_count": 8,
   "metadata": {},
   "outputs": [
    {
     "name": "stdout",
     "output_type": "stream",
     "text": [
      "Train on 35000 samples, validate on 15000 samples\n",
      "Epoch 1/40\n",
      "35000/35000 [==============================] - 9s 243us/step - loss: 2.0415 - acc: 0.2570 - val_loss: 1.9333 - val_acc: 0.3042\n",
      "Epoch 2/40\n",
      "35000/35000 [==============================] - 5s 156us/step - loss: 1.8990 - acc: 0.3186 - val_loss: 1.8804 - val_acc: 0.3227\n",
      "Epoch 3/40\n",
      "35000/35000 [==============================] - 5s 155us/step - loss: 1.8419 - acc: 0.3413 - val_loss: 1.8486 - val_acc: 0.3411\n",
      "Epoch 4/40\n",
      "35000/35000 [==============================] - 5s 152us/step - loss: 1.8029 - acc: 0.3566 - val_loss: 1.8182 - val_acc: 0.3467\n",
      "Epoch 5/40\n",
      "35000/35000 [==============================] - 5s 152us/step - loss: 1.7711 - acc: 0.3685 - val_loss: 1.7815 - val_acc: 0.3655\n",
      "Epoch 6/40\n",
      "35000/35000 [==============================] - 5s 152us/step - loss: 1.7457 - acc: 0.3762 - val_loss: 1.8033 - val_acc: 0.3579\n",
      "Epoch 7/40\n",
      "35000/35000 [==============================] - 5s 155us/step - loss: 1.7249 - acc: 0.3848 - val_loss: 1.7741 - val_acc: 0.3681\n",
      "Epoch 8/40\n",
      "35000/35000 [==============================] - 6s 158us/step - loss: 1.7059 - acc: 0.3914 - val_loss: 1.7777 - val_acc: 0.3667\n",
      "Epoch 9/40\n",
      "35000/35000 [==============================] - 5s 157us/step - loss: 1.6929 - acc: 0.3982 - val_loss: 1.7495 - val_acc: 0.3795\n",
      "Epoch 10/40\n",
      "35000/35000 [==============================] - 5s 153us/step - loss: 1.6671 - acc: 0.4053 - val_loss: 1.7402 - val_acc: 0.3789\n",
      "Epoch 11/40\n",
      "35000/35000 [==============================] - 5s 153us/step - loss: 1.6560 - acc: 0.4072 - val_loss: 1.7430 - val_acc: 0.3795\n",
      "Epoch 12/40\n",
      "35000/35000 [==============================] - 5s 154us/step - loss: 1.6420 - acc: 0.4127 - val_loss: 1.7552 - val_acc: 0.3803\n",
      "Epoch 13/40\n",
      "35000/35000 [==============================] - 5s 154us/step - loss: 1.6280 - acc: 0.4167 - val_loss: 1.7250 - val_acc: 0.3865\n",
      "Epoch 14/40\n",
      "35000/35000 [==============================] - 6s 160us/step - loss: 1.6128 - acc: 0.4276 - val_loss: 1.7306 - val_acc: 0.3897\n",
      "Epoch 15/40\n",
      "35000/35000 [==============================] - 5s 156us/step - loss: 1.5997 - acc: 0.4302 - val_loss: 1.7210 - val_acc: 0.3878\n",
      "Epoch 16/40\n",
      "35000/35000 [==============================] - 5s 153us/step - loss: 1.5903 - acc: 0.4334 - val_loss: 1.7263 - val_acc: 0.3903\n",
      "Epoch 17/40\n",
      "35000/35000 [==============================] - 5s 154us/step - loss: 1.5778 - acc: 0.4370 - val_loss: 1.7250 - val_acc: 0.3864\n",
      "Epoch 18/40\n",
      "35000/35000 [==============================] - 5s 154us/step - loss: 1.5639 - acc: 0.4433 - val_loss: 1.7352 - val_acc: 0.3907\n"
     ]
    },
    {
     "data": {
      "text/plain": [
       "<keras.callbacks.History at 0x25680796ef0>"
      ]
     },
     "execution_count": 8,
     "metadata": {},
     "output_type": "execute_result"
    }
   ],
   "source": [
    "model.fit(train_imgs_grey, train_labels_encoded, epochs=40, validation_split=0.3, callbacks=[early_stopping_monitor])"
   ]
  },
  {
   "cell_type": "code",
   "execution_count": 9,
   "metadata": {},
   "outputs": [
    {
     "name": "stdout",
     "output_type": "stream",
     "text": [
      "10000/10000 [==============================] - 0s 42us/step\n"
     ]
    },
    {
     "data": {
      "text/plain": [
       "[1.7128542533874511, 0.4002]"
      ]
     },
     "execution_count": 9,
     "metadata": {},
     "output_type": "execute_result"
    }
   ],
   "source": [
    "model.evaluate(test_imgs_grey, test_labels_encoded, batch_size=32)"
   ]
  },
  {
   "cell_type": "markdown",
   "metadata": {},
   "source": [
    "## 3. Train the MLP network in CIFAR-10\n",
    "\n",
    "The main objective is to train the MLP network to achieve a balance between the ability to respond correctly to the input patterns that are used for training and the ability to provide good response to the input that is similar. Use the stochastic gradient descent optimiser with an appropriate learning rate between 1e-2 and 1e-3. Report your evaluation loss and accuracy, and you can also consider doing things like early stopping to prevent overfitting and achieve the best model."
   ]
  },
  {
   "cell_type": "code",
   "execution_count": 10,
   "metadata": {},
   "outputs": [
    {
     "name": "stdout",
     "output_type": "stream",
     "text": [
      "\n",
      "\n",
      "Testing model with learning rate: 0.001000\n",
      "\n",
      "Train on 35000 samples, validate on 15000 samples\n",
      "Epoch 1/40\n",
      "35000/35000 [==============================] - 5s 144us/step - loss: 2.2733 - acc: 0.1600 - val_loss: 2.2420 - val_acc: 0.1927\n",
      "Epoch 2/40\n",
      "35000/35000 [==============================] - 5s 133us/step - loss: 2.2137 - acc: 0.2140 - val_loss: 2.1878 - val_acc: 0.2249\n",
      "Epoch 3/40\n",
      "35000/35000 [==============================] - 5s 134us/step - loss: 2.1564 - acc: 0.2394 - val_loss: 2.1355 - val_acc: 0.2359\n",
      "Epoch 4/40\n",
      "35000/35000 [==============================] - 5s 131us/step - loss: 2.1118 - acc: 0.2485 - val_loss: 2.1030 - val_acc: 0.2457\n",
      "Epoch 5/40\n",
      "35000/35000 [==============================] - 5s 129us/step - loss: 2.0815 - acc: 0.2567 - val_loss: 2.0762 - val_acc: 0.2510\n",
      "Epoch 6/40\n",
      "35000/35000 [==============================] - 5s 129us/step - loss: 2.0586 - acc: 0.2639 - val_loss: 2.0598 - val_acc: 0.2615\n",
      "Epoch 7/40\n",
      "35000/35000 [==============================] - 5s 133us/step - loss: 2.0408 - acc: 0.2711 - val_loss: 2.0460 - val_acc: 0.2663\n",
      "Epoch 8/40\n",
      "35000/35000 [==============================] - 5s 137us/step - loss: 2.0268 - acc: 0.2764 - val_loss: 2.0338 - val_acc: 0.2669\n",
      "Epoch 9/40\n",
      "35000/35000 [==============================] - 5s 135us/step - loss: 2.0144 - acc: 0.2810 - val_loss: 2.0253 - val_acc: 0.2766\n",
      "Epoch 10/40\n",
      "35000/35000 [==============================] - 5s 133us/step - loss: 2.0042 - acc: 0.2863 - val_loss: 2.0177 - val_acc: 0.2788\n",
      "Epoch 11/40\n",
      "35000/35000 [==============================] - 5s 132us/step - loss: 1.9946 - acc: 0.2895 - val_loss: 2.0073 - val_acc: 0.2875\n",
      "Epoch 12/40\n",
      "35000/35000 [==============================] - 5s 130us/step - loss: 1.9855 - acc: 0.2950 - val_loss: 1.9980 - val_acc: 0.2915\n",
      "Epoch 13/40\n",
      "35000/35000 [==============================] - 5s 132us/step - loss: 1.9774 - acc: 0.2997 - val_loss: 1.9912 - val_acc: 0.2955\n",
      "Epoch 14/40\n",
      "35000/35000 [==============================] - 5s 131us/step - loss: 1.9692 - acc: 0.3032 - val_loss: 1.9816 - val_acc: 0.2918\n",
      "Epoch 15/40\n",
      "35000/35000 [==============================] - 5s 131us/step - loss: 1.9616 - acc: 0.3047 - val_loss: 1.9746 - val_acc: 0.2949\n",
      "Epoch 16/40\n",
      "35000/35000 [==============================] - 5s 133us/step - loss: 1.9533 - acc: 0.3096 - val_loss: 1.9708 - val_acc: 0.2911\n",
      "Epoch 17/40\n",
      "35000/35000 [==============================] - 5s 134us/step - loss: 1.9456 - acc: 0.3113 - val_loss: 1.9621 - val_acc: 0.3003\n",
      "Epoch 18/40\n",
      "35000/35000 [==============================] - 5s 133us/step - loss: 1.9385 - acc: 0.3153 - val_loss: 1.9565 - val_acc: 0.3009\n",
      "Epoch 19/40\n",
      "35000/35000 [==============================] - 5s 133us/step - loss: 1.9312 - acc: 0.3164 - val_loss: 1.9485 - val_acc: 0.3069\n",
      "Epoch 20/40\n",
      "35000/35000 [==============================] - 5s 135us/step - loss: 1.9239 - acc: 0.3200 - val_loss: 1.9413 - val_acc: 0.3087\n",
      "Epoch 21/40\n",
      "35000/35000 [==============================] - 5s 129us/step - loss: 1.9159 - acc: 0.3226 - val_loss: 1.9341 - val_acc: 0.3105\n",
      "Epoch 22/40\n",
      "35000/35000 [==============================] - 5s 135us/step - loss: 1.9090 - acc: 0.3254 - val_loss: 1.9271 - val_acc: 0.3149\n",
      "Epoch 23/40\n",
      "35000/35000 [==============================] - 5s 140us/step - loss: 1.9015 - acc: 0.3283 - val_loss: 1.9228 - val_acc: 0.3178\n",
      "Epoch 24/40\n",
      "35000/35000 [==============================] - 5s 135us/step - loss: 1.8944 - acc: 0.3308 - val_loss: 1.9145 - val_acc: 0.3156\n",
      "Epoch 25/40\n",
      "35000/35000 [==============================] - 5s 135us/step - loss: 1.8872 - acc: 0.3349 - val_loss: 1.9091 - val_acc: 0.3201\n",
      "Epoch 26/40\n",
      "35000/35000 [==============================] - 5s 129us/step - loss: 1.8795 - acc: 0.3390 - val_loss: 1.9037 - val_acc: 0.3229\n",
      "Epoch 27/40\n",
      "35000/35000 [==============================] - 4s 125us/step - loss: 1.8727 - acc: 0.3400 - val_loss: 1.8961 - val_acc: 0.3245\n",
      "Epoch 28/40\n",
      "35000/35000 [==============================] - 5s 129us/step - loss: 1.8657 - acc: 0.3422 - val_loss: 1.8907 - val_acc: 0.3251\n",
      "Epoch 29/40\n",
      "35000/35000 [==============================] - 4s 124us/step - loss: 1.8595 - acc: 0.3454 - val_loss: 1.8851 - val_acc: 0.3297\n",
      "Epoch 30/40\n",
      "35000/35000 [==============================] - 5s 132us/step - loss: 1.8535 - acc: 0.3475 - val_loss: 1.8806 - val_acc: 0.3331\n",
      "Epoch 31/40\n",
      "35000/35000 [==============================] - 4s 128us/step - loss: 1.8468 - acc: 0.3501 - val_loss: 1.8758 - val_acc: 0.3342\n",
      "Epoch 32/40\n",
      "35000/35000 [==============================] - 5s 129us/step - loss: 1.8412 - acc: 0.3509 - val_loss: 1.8693 - val_acc: 0.3377\n",
      "Epoch 33/40\n",
      "35000/35000 [==============================] - 4s 125us/step - loss: 1.8345 - acc: 0.3545 - val_loss: 1.8700 - val_acc: 0.3342\n",
      "Epoch 34/40\n",
      "35000/35000 [==============================] - 4s 124us/step - loss: 1.8294 - acc: 0.3540 - val_loss: 1.8616 - val_acc: 0.3390\n",
      "Epoch 35/40\n",
      "35000/35000 [==============================] - 5s 132us/step - loss: 1.8239 - acc: 0.3559 - val_loss: 1.8554 - val_acc: 0.3403\n",
      "Epoch 36/40\n",
      "35000/35000 [==============================] - 4s 128us/step - loss: 1.8190 - acc: 0.3596 - val_loss: 1.8534 - val_acc: 0.3431\n",
      "Epoch 37/40\n",
      "35000/35000 [==============================] - 5s 129us/step - loss: 1.8138 - acc: 0.3601 - val_loss: 1.8457 - val_acc: 0.3474\n",
      "Epoch 38/40\n",
      "35000/35000 [==============================] - 4s 125us/step - loss: 1.8082 - acc: 0.3616 - val_loss: 1.8451 - val_acc: 0.3473\n",
      "Epoch 39/40\n",
      "35000/35000 [==============================] - 4s 125us/step - loss: 1.8041 - acc: 0.3643 - val_loss: 1.8381 - val_acc: 0.3476\n",
      "Epoch 40/40\n",
      "35000/35000 [==============================] - 4s 124us/step - loss: 1.7992 - acc: 0.3646 - val_loss: 1.8367 - val_acc: 0.3497\n",
      "10000/10000 [==============================] - 0s 40us/step\n",
      "\n",
      "\n",
      "Testing model with learning rate: 0.005000\n",
      "\n",
      "Train on 35000 samples, validate on 15000 samples\n",
      "Epoch 1/40\n",
      "35000/35000 [==============================] - 5s 153us/step - loss: 2.1916 - acc: 0.1997 - val_loss: 2.1014 - val_acc: 0.2448\n",
      "Epoch 2/40\n",
      "35000/35000 [==============================] - 5s 130us/step - loss: 2.0537 - acc: 0.2625 - val_loss: 2.0253 - val_acc: 0.2730\n",
      "Epoch 3/40\n",
      "35000/35000 [==============================] - 5s 133us/step - loss: 1.9931 - acc: 0.2887 - val_loss: 1.9838 - val_acc: 0.2950\n",
      "Epoch 4/40\n",
      "35000/35000 [==============================] - 4s 125us/step - loss: 1.9489 - acc: 0.3068 - val_loss: 1.9526 - val_acc: 0.3029\n",
      "Epoch 5/40\n",
      "35000/35000 [==============================] - 4s 128us/step - loss: 1.9119 - acc: 0.3227 - val_loss: 1.9172 - val_acc: 0.3203\n",
      "Epoch 6/40\n",
      "35000/35000 [==============================] - 5s 133us/step - loss: 1.8785 - acc: 0.3339 - val_loss: 1.8902 - val_acc: 0.3303\n",
      "Epoch 7/40\n",
      "35000/35000 [==============================] - 5s 133us/step - loss: 1.8511 - acc: 0.3428 - val_loss: 1.8754 - val_acc: 0.3401\n",
      "Epoch 8/40\n",
      "35000/35000 [==============================] - 4s 125us/step - loss: 1.8251 - acc: 0.3548 - val_loss: 1.8590 - val_acc: 0.3402\n",
      "Epoch 9/40\n",
      "35000/35000 [==============================] - 4s 126us/step - loss: 1.8057 - acc: 0.3610 - val_loss: 1.8451 - val_acc: 0.3504\n",
      "Epoch 10/40\n",
      "35000/35000 [==============================] - 4s 127us/step - loss: 1.7846 - acc: 0.3702 - val_loss: 1.8257 - val_acc: 0.3555\n",
      "Epoch 11/40\n",
      "35000/35000 [==============================] - 4s 125us/step - loss: 1.7676 - acc: 0.3777 - val_loss: 1.7936 - val_acc: 0.3669\n",
      "Epoch 12/40\n",
      "35000/35000 [==============================] - 5s 136us/step - loss: 1.7517 - acc: 0.3795 - val_loss: 1.7764 - val_acc: 0.3721\n",
      "Epoch 13/40\n",
      "35000/35000 [==============================] - 5s 131us/step - loss: 1.7371 - acc: 0.3848 - val_loss: 1.7734 - val_acc: 0.3709\n",
      "Epoch 14/40\n",
      "35000/35000 [==============================] - 5s 133us/step - loss: 1.7237 - acc: 0.3906 - val_loss: 1.7895 - val_acc: 0.3648\n",
      "Epoch 15/40\n",
      "35000/35000 [==============================] - 4s 127us/step - loss: 1.7097 - acc: 0.3936 - val_loss: 1.7486 - val_acc: 0.3785\n",
      "Epoch 16/40\n",
      "35000/35000 [==============================] - 4s 126us/step - loss: 1.6985 - acc: 0.3986 - val_loss: 1.7536 - val_acc: 0.3819\n",
      "Epoch 17/40\n",
      "35000/35000 [==============================] - 5s 134us/step - loss: 1.6874 - acc: 0.4011 - val_loss: 1.7684 - val_acc: 0.3661\n",
      "Epoch 18/40\n"
     ]
    },
    {
     "name": "stdout",
     "output_type": "stream",
     "text": [
      "35000/35000 [==============================] - 5s 132us/step - loss: 1.6759 - acc: 0.4045 - val_loss: 1.7220 - val_acc: 0.3928\n",
      "Epoch 19/40\n",
      "35000/35000 [==============================] - 5s 134us/step - loss: 1.6643 - acc: 0.4111 - val_loss: 1.7331 - val_acc: 0.3831\n",
      "Epoch 20/40\n",
      "35000/35000 [==============================] - 4s 125us/step - loss: 1.6537 - acc: 0.4142 - val_loss: 1.7130 - val_acc: 0.3923\n",
      "Epoch 21/40\n",
      "35000/35000 [==============================] - 4s 126us/step - loss: 1.6433 - acc: 0.4184 - val_loss: 1.7446 - val_acc: 0.3818\n",
      "Epoch 22/40\n",
      "35000/35000 [==============================] - 5s 134us/step - loss: 1.6348 - acc: 0.4177 - val_loss: 1.7443 - val_acc: 0.3833\n",
      "Epoch 23/40\n",
      "35000/35000 [==============================] - 5s 130us/step - loss: 1.6248 - acc: 0.4278 - val_loss: 1.7165 - val_acc: 0.3961\n",
      "10000/10000 [==============================] - 0s 41us/step\n",
      "\n",
      "\n",
      "Testing model with learning rate: 0.010000\n",
      "\n",
      "Train on 35000 samples, validate on 15000 samples\n",
      "Epoch 1/40\n",
      "35000/35000 [==============================] - 5s 147us/step - loss: 2.1656 - acc: 0.2026 - val_loss: 2.0801 - val_acc: 0.2361\n",
      "Epoch 2/40\n",
      "35000/35000 [==============================] - 4s 126us/step - loss: 2.0265 - acc: 0.2743 - val_loss: 1.9917 - val_acc: 0.2875\n",
      "Epoch 3/40\n",
      "35000/35000 [==============================] - 4s 126us/step - loss: 1.9630 - acc: 0.3021 - val_loss: 1.9647 - val_acc: 0.2869\n",
      "Epoch 4/40\n",
      "35000/35000 [==============================] - 5s 133us/step - loss: 1.9078 - acc: 0.3238 - val_loss: 1.9090 - val_acc: 0.3236\n",
      "Epoch 5/40\n",
      "35000/35000 [==============================] - 5s 133us/step - loss: 1.8621 - acc: 0.3398 - val_loss: 1.8552 - val_acc: 0.3437\n",
      "Epoch 6/40\n",
      "35000/35000 [==============================] - 5s 133us/step - loss: 1.8267 - acc: 0.3535 - val_loss: 1.8318 - val_acc: 0.3504\n",
      "Epoch 7/40\n",
      "35000/35000 [==============================] - 4s 128us/step - loss: 1.7965 - acc: 0.3639 - val_loss: 1.8207 - val_acc: 0.3559\n",
      "Epoch 8/40\n",
      "35000/35000 [==============================] - 4s 126us/step - loss: 1.7734 - acc: 0.3701 - val_loss: 1.8258 - val_acc: 0.3492\n",
      "Epoch 9/40\n",
      "35000/35000 [==============================] - 5s 135us/step - loss: 1.7545 - acc: 0.3785 - val_loss: 1.7813 - val_acc: 0.3639\n",
      "Epoch 10/40\n",
      "35000/35000 [==============================] - 5s 140us/step - loss: 1.7353 - acc: 0.3851 - val_loss: 1.7598 - val_acc: 0.3726\n",
      "Epoch 11/40\n",
      "35000/35000 [==============================] - 5s 133us/step - loss: 1.7187 - acc: 0.3934 - val_loss: 1.7666 - val_acc: 0.3766\n",
      "Epoch 12/40\n",
      "35000/35000 [==============================] - 4s 125us/step - loss: 1.7016 - acc: 0.3996 - val_loss: 1.7760 - val_acc: 0.3689\n",
      "Epoch 13/40\n",
      "35000/35000 [==============================] - 4s 126us/step - loss: 1.6871 - acc: 0.4038 - val_loss: 1.7304 - val_acc: 0.3866\n",
      "Epoch 14/40\n",
      "35000/35000 [==============================] - 5s 133us/step - loss: 1.6712 - acc: 0.4109 - val_loss: 1.7310 - val_acc: 0.3912\n",
      "Epoch 15/40\n",
      "35000/35000 [==============================] - 5s 132us/step - loss: 1.6597 - acc: 0.4111 - val_loss: 1.7079 - val_acc: 0.3967\n",
      "Epoch 16/40\n",
      "35000/35000 [==============================] - 5s 135us/step - loss: 1.6444 - acc: 0.4187 - val_loss: 1.7204 - val_acc: 0.3902\n",
      "Epoch 17/40\n",
      "35000/35000 [==============================] - 5s 130us/step - loss: 1.6313 - acc: 0.4230 - val_loss: 1.7618 - val_acc: 0.3781\n",
      "Epoch 18/40\n",
      "35000/35000 [==============================] - 4s 127us/step - loss: 1.6204 - acc: 0.4283 - val_loss: 1.6993 - val_acc: 0.4019\n",
      "Epoch 19/40\n",
      "35000/35000 [==============================] - 5s 134us/step - loss: 1.6076 - acc: 0.4321 - val_loss: 1.6842 - val_acc: 0.4039\n",
      "Epoch 20/40\n",
      "35000/35000 [==============================] - 5s 130us/step - loss: 1.5969 - acc: 0.4377 - val_loss: 1.7474 - val_acc: 0.3881\n",
      "Epoch 21/40\n",
      "35000/35000 [==============================] - 5s 134us/step - loss: 1.5838 - acc: 0.4409 - val_loss: 1.7140 - val_acc: 0.3872\n",
      "Epoch 22/40\n",
      "35000/35000 [==============================] - 4s 127us/step - loss: 1.5734 - acc: 0.4439 - val_loss: 1.6788 - val_acc: 0.4011\n",
      "Epoch 23/40\n",
      "35000/35000 [==============================] - 4s 126us/step - loss: 1.5618 - acc: 0.4478 - val_loss: 1.6655 - val_acc: 0.4069\n",
      "Epoch 24/40\n",
      "35000/35000 [==============================] - 4s 127us/step - loss: 1.5541 - acc: 0.4497 - val_loss: 1.7271 - val_acc: 0.3885\n",
      "Epoch 25/40\n",
      "35000/35000 [==============================] - 5s 137us/step - loss: 1.5431 - acc: 0.4549 - val_loss: 1.7040 - val_acc: 0.3988\n",
      "Epoch 26/40\n",
      "35000/35000 [==============================] - 5s 131us/step - loss: 1.5346 - acc: 0.4563 - val_loss: 1.6839 - val_acc: 0.4077\n",
      "10000/10000 [==============================] - 0s 42us/step\n"
     ]
    }
   ],
   "source": [
    "# Create list of learning rates: lr_to_test\n",
    "lr_to_test = [0.001,0.005,0.01]\n",
    "\n",
    "early_stopping_monitor = EarlyStopping(patience=3)\n",
    "\n",
    "score_list = []\n",
    "acc_list = []\n",
    "\n",
    "# Loop over learning rates\n",
    "for lr in lr_to_test:\n",
    "    print('\\n\\nTesting model with learning rate: %f\\n'%lr )\n",
    "    \n",
    "    # Build new model to test, unaffected by previous models\n",
    "    model = Sequential()\n",
    "    model.add(Dense(100, activation='relu',input_shape=(n_cols,)))\n",
    "    model.add(Dense(100, activation='relu'))\n",
    "    model.add(Dense(100, activation='relu'))\n",
    "    model.add(Dense(10, activation='softmax'))\n",
    "    \n",
    "    # Create SGD optimizer with specified learning rate: my_optimizer\n",
    "    my_optimizer = SGD(lr=lr)\n",
    "    \n",
    "    # Compile the model\n",
    "    model.compile(optimizer=my_optimizer, loss='categorical_crossentropy', metrics=['accuracy'])\n",
    "    \n",
    "    # Fit the model\n",
    "    model.fit(train_imgs_grey, train_labels_encoded, epochs=40, validation_split=0.3, callbacks=[early_stopping_monitor])\n",
    "    \n",
    "    # Evaluate the final model\n",
    "    score, acc = model.evaluate(test_imgs_grey, test_labels_encoded, batch_size=32)\n",
    "    \n",
    "    score_list.append(score)\n",
    "    acc_list.append(acc)"
   ]
  },
  {
   "cell_type": "code",
   "execution_count": 11,
   "metadata": {},
   "outputs": [
    {
     "data": {
      "image/png": "[encoded data removed]",
      "text/plain": [
       "<Figure size 432x288 with 1 Axes>"
      ]
     },
     "metadata": {},
     "output_type": "display_data"
    }
   ],
   "source": [
    "plt.plot(score_list, 'r', acc_list, 'b')\n",
    "plt.xlabel('Learning Rate')\n",
    "plt.ylabel('Score/Accuracy')\n",
    "plt.show()"
   ]
  },
  {
   "cell_type": "code",
   "execution_count": 17,
   "metadata": {},
   "outputs": [
    {
     "name": "stdout",
     "output_type": "stream",
     "text": [
      "Learning Rate of 0.001: Score: 1.8159462215423583 - Accuracy: 0.3537\n",
      "Learning Rate of 0.005: Score: 1.701442984008789 - Accuracy: 0.3959\n",
      "Learning Rate of 0.01: Score: 1.6682677238464356 - Accuracy: 0.412\n"
     ]
    }
   ],
   "source": [
    "print(\"Learning Rate of 0.001: Score: \" + str(score_list[0]) + \" - Accuracy: \" + str(acc_list[0]))\n",
    "print(\"Learning Rate of 0.005: Score: \" + str(score_list[1]) + \" - Accuracy: \" + str(acc_list[1]))\n",
    "print(\"Learning Rate of 0.01: Score: \" + str(score_list[2]) + \" - Accuracy: \" + str(acc_list[2]))"
   ]
  },
  {
   "cell_type": "markdown",
   "metadata": {},
   "source": [
    "Learning rate of 0.001 is too small. The model have not converge yet by the 40th epoch. Learning rate of 0.005 and 0.01 appears to be able converge and triggered the early stop. However the use of adam optimiser was even better, it allowed for a faster convergent. "
   ]
  }
 ],
 "metadata": {
  "kernelspec": {
   "display_name": "Python 3",
   "language": "python",
   "name": "python3"
  },
  "language_info": {
   "codemirror_mode": {
    "name": "ipython",
    "version": 3
   },
   "file_extension": ".py",
   "mimetype": "text/x-python",
   "name": "python",
   "nbconvert_exporter": "python",
   "pygments_lexer": "ipython3",
   "version": "3.6.5"
  }
 },
 "nbformat": 4,
 "nbformat_minor": 2
}
