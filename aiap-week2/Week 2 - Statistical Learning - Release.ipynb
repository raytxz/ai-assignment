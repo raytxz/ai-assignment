{
 "cells": [
  {
   "cell_type": "markdown",
   "metadata": {},
   "source": [
    "# Welcome to Week 2\n",
    "Last week you played with data and built models in a very practical way. This week, you will go deeper into theory and spend time on some foundational concepts.  This notebook is divided into two sections:\n",
    "\n",
    "1. The Theory: an introduction to bias and variance - two key concepts in machine learning - and how they affect model performance\n",
    "2. The Practice: a chance for you to experiment with how we deal with these concepts in practice\n",
    "\n",
    "**You may finish the coding questions fairly quickly, but we expect you to spend most of your time teaching yourself the theoretical concepts** that come up in this notebook. We will use the 2-on-1 review session to test you on these concepts. Consequently, you should spend your time going through the below **resources** and playing with these concepts beyond this notebook.\n",
    "### Resources (spend your time here!)\n",
    "- [Caltech Learn from data](http://work.caltech.edu/telecourse.html \"\"): Seminal online course that introduces the theory of machine learning\n",
    "- [Introduction to Statistical Learning](https://www-bcf.usc.edu/~gareth/ISL/ \"\"): Landmark textbook (and videos) on machine learning theory\n",
    "- *Machine Learning* by Tom M. Mitchell: See chapters 5.2 & 5.3 (textbook available on our bookshelf)\n",
    "- [Datacamp Supervised learning with scikit-learn](https://www.datacamp.com/courses/supervised-learning-with-scikit-learn \"\"): Practical walkthrough of some key concepts and their application\n",
    "- [Understanding the Bias Variance Tradeoff](http://scott.fortmann-roe.com/docs/BiasVariance.html \"\"): Blog post on the topic of bias and variance\n",
    "- [Kaggle Ensembling Guide](https://mlwave.com/kaggle-ensembling-guide/ \"\"): Ensembling guide\n",
    "- [XGBoost tutorials](https://xgboost.readthedocs.io/en/latest/tutorials/model.html \"\"): XGBoost guide\n",
    "\n",
    "### Collaboration Policy\n",
    "\n",
    "Collaboration is the best way to learn. Try everything yourself first, then discuss your method with your teammates. Do not directly copy their code, unless you are trying to learn a programming technique. Do your own thinking and write your own code.\n",
    "\n",
    "If you believe referring to someone's answer is the best way to learn, we recommend looking at the code, then walking away for a few minutes, and come back to write your own version of the code. There will be minimum policing, but we will check for direct copying of code.\n",
    "\n",
    "Please list your collaborators:"
   ]
  },
  {
   "cell_type": "markdown",
   "metadata": {},
   "source": []
  },
  {
   "cell_type": "markdown",
   "metadata": {},
   "source": [
    "### Imports\n",
    "This section should be reserved for packages/libraries you that you would normally use (you can add models/functions/libraries as you go along)"
   ]
  },
  {
   "cell_type": "code",
   "execution_count": 91,
   "metadata": {},
   "outputs": [],
   "source": [
    "%matplotlib inline\n",
    "import matplotlib.pyplot as plt\n",
    "import pandas as pd\n",
    "import seaborn as sns\n",
    "from sklearn.model_selection import train_test_split, cross_val_score\n",
    "from sklearn.linear_model import LinearRegression, Lasso, ElasticNet\n",
    "from sklearn.neighbors import KNeighborsRegressor\n",
    "from sklearn.tree import DecisionTreeRegressor\n",
    "from sklearn.preprocessing import PolynomialFeatures\n",
    "import numpy as np\n",
    "from sklearn.metrics import mean_squared_error, r2_score\n",
    "import scipy.stats as st\n",
    "from sklearn.model_selection import GridSearchCV\n",
    "from sklearn.feature_selection import RFE\n",
    "from sklearn.pipeline import Pipeline\n",
    "import math\n",
    "from sklearn.ensemble import BaggingRegressor, RandomForestRegressor, AdaBoostRegressor, GradientBoostingRegressor\n",
    "import xgboost as xgb"
   ]
  },
  {
   "cell_type": "markdown",
   "metadata": {},
   "source": [
    "### Dataset\n",
    "Begin by loading the Boston House Prices dataset, or simply the Boston dataset, for our exploration. <br>\n",
    "You can find it on Kaggle, or simply import it from the scikit-learn build-in datasets."
   ]
  },
  {
   "cell_type": "code",
   "execution_count": 2,
   "metadata": {},
   "outputs": [
    {
     "name": "stdout",
     "output_type": "stream",
     "text": [
      "(506, 14)\n"
     ]
    }
   ],
   "source": [
    "column_labels = ['CRIM', 'ZN', 'INDUS', 'CHAS', 'NOX', 'RM', 'AGE', 'DIS', 'RAD', 'TAX', 'PTRATIO', 'B', 'LSTAT', 'MEDV']\n",
    "housing_raw = pd.read_csv('data/housing.csv', delim_whitespace=True, names=column_labels)\n",
    "print(housing_raw.shape)"
   ]
  },
  {
   "cell_type": "code",
   "execution_count": 3,
   "metadata": {},
   "outputs": [
    {
     "data": {
      "text/html": [
       "<div>\n",
       "<style scoped>\n",
       "    .dataframe tbody tr th:only-of-type {\n",
       "        vertical-align: middle;\n",
       "    }\n",
       "\n",
       "    .dataframe tbody tr th {\n",
       "        vertical-align: top;\n",
       "    }\n",
       "\n",
       "    .dataframe thead th {\n",
       "        text-align: right;\n",
       "    }\n",
       "</style>\n",
       "<table border=\"1\" class=\"dataframe\">\n",
       "  <thead>\n",
       "    <tr style=\"text-align: right;\">\n",
       "      <th></th>\n",
       "      <th>CRIM</th>\n",
       "      <th>ZN</th>\n",
       "      <th>INDUS</th>\n",
       "      <th>CHAS</th>\n",
       "      <th>NOX</th>\n",
       "      <th>RM</th>\n",
       "      <th>AGE</th>\n",
       "      <th>DIS</th>\n",
       "      <th>RAD</th>\n",
       "      <th>TAX</th>\n",
       "      <th>PTRATIO</th>\n",
       "      <th>B</th>\n",
       "      <th>LSTAT</th>\n",
       "      <th>MEDV</th>\n",
       "    </tr>\n",
       "  </thead>\n",
       "  <tbody>\n",
       "    <tr>\n",
       "      <th>0</th>\n",
       "      <td>0.00632</td>\n",
       "      <td>18.0</td>\n",
       "      <td>2.31</td>\n",
       "      <td>0</td>\n",
       "      <td>0.538</td>\n",
       "      <td>6.575</td>\n",
       "      <td>65.2</td>\n",
       "      <td>4.0900</td>\n",
       "      <td>1</td>\n",
       "      <td>296.0</td>\n",
       "      <td>15.3</td>\n",
       "      <td>396.90</td>\n",
       "      <td>4.98</td>\n",
       "      <td>24.0</td>\n",
       "    </tr>\n",
       "    <tr>\n",
       "      <th>1</th>\n",
       "      <td>0.02731</td>\n",
       "      <td>0.0</td>\n",
       "      <td>7.07</td>\n",
       "      <td>0</td>\n",
       "      <td>0.469</td>\n",
       "      <td>6.421</td>\n",
       "      <td>78.9</td>\n",
       "      <td>4.9671</td>\n",
       "      <td>2</td>\n",
       "      <td>242.0</td>\n",
       "      <td>17.8</td>\n",
       "      <td>396.90</td>\n",
       "      <td>9.14</td>\n",
       "      <td>21.6</td>\n",
       "    </tr>\n",
       "    <tr>\n",
       "      <th>2</th>\n",
       "      <td>0.02729</td>\n",
       "      <td>0.0</td>\n",
       "      <td>7.07</td>\n",
       "      <td>0</td>\n",
       "      <td>0.469</td>\n",
       "      <td>7.185</td>\n",
       "      <td>61.1</td>\n",
       "      <td>4.9671</td>\n",
       "      <td>2</td>\n",
       "      <td>242.0</td>\n",
       "      <td>17.8</td>\n",
       "      <td>392.83</td>\n",
       "      <td>4.03</td>\n",
       "      <td>34.7</td>\n",
       "    </tr>\n",
       "    <tr>\n",
       "      <th>3</th>\n",
       "      <td>0.03237</td>\n",
       "      <td>0.0</td>\n",
       "      <td>2.18</td>\n",
       "      <td>0</td>\n",
       "      <td>0.458</td>\n",
       "      <td>6.998</td>\n",
       "      <td>45.8</td>\n",
       "      <td>6.0622</td>\n",
       "      <td>3</td>\n",
       "      <td>222.0</td>\n",
       "      <td>18.7</td>\n",
       "      <td>394.63</td>\n",
       "      <td>2.94</td>\n",
       "      <td>33.4</td>\n",
       "    </tr>\n",
       "    <tr>\n",
       "      <th>4</th>\n",
       "      <td>0.06905</td>\n",
       "      <td>0.0</td>\n",
       "      <td>2.18</td>\n",
       "      <td>0</td>\n",
       "      <td>0.458</td>\n",
       "      <td>7.147</td>\n",
       "      <td>54.2</td>\n",
       "      <td>6.0622</td>\n",
       "      <td>3</td>\n",
       "      <td>222.0</td>\n",
       "      <td>18.7</td>\n",
       "      <td>396.90</td>\n",
       "      <td>5.33</td>\n",
       "      <td>36.2</td>\n",
       "    </tr>\n",
       "  </tbody>\n",
       "</table>\n",
       "</div>"
      ],
      "text/plain": [
       "      CRIM    ZN  INDUS  CHAS    NOX     RM   AGE     DIS  RAD    TAX  \\\n",
       "0  0.00632  18.0   2.31     0  0.538  6.575  65.2  4.0900    1  296.0   \n",
       "1  0.02731   0.0   7.07     0  0.469  6.421  78.9  4.9671    2  242.0   \n",
       "2  0.02729   0.0   7.07     0  0.469  7.185  61.1  4.9671    2  242.0   \n",
       "3  0.03237   0.0   2.18     0  0.458  6.998  45.8  6.0622    3  222.0   \n",
       "4  0.06905   0.0   2.18     0  0.458  7.147  54.2  6.0622    3  222.0   \n",
       "\n",
       "   PTRATIO       B  LSTAT  MEDV  \n",
       "0     15.3  396.90   4.98  24.0  \n",
       "1     17.8  396.90   9.14  21.6  \n",
       "2     17.8  392.83   4.03  34.7  \n",
       "3     18.7  394.63   2.94  33.4  \n",
       "4     18.7  396.90   5.33  36.2  "
      ]
     },
     "execution_count": 3,
     "metadata": {},
     "output_type": "execute_result"
    }
   ],
   "source": [
    "housing_raw.head()"
   ]
  },
  {
   "cell_type": "code",
   "execution_count": 4,
   "metadata": {},
   "outputs": [
    {
     "data": {
      "text/plain": [
       "CRIM       0\n",
       "ZN         0\n",
       "INDUS      0\n",
       "CHAS       0\n",
       "NOX        0\n",
       "RM         0\n",
       "AGE        0\n",
       "DIS        0\n",
       "RAD        0\n",
       "TAX        0\n",
       "PTRATIO    0\n",
       "B          0\n",
       "LSTAT      0\n",
       "MEDV       0\n",
       "dtype: int64"
      ]
     },
     "execution_count": 4,
     "metadata": {},
     "output_type": "execute_result"
    }
   ],
   "source": [
    "housing_raw.isna().sum()"
   ]
  },
  {
   "cell_type": "code",
   "execution_count": 5,
   "metadata": {},
   "outputs": [
    {
     "data": {
      "text/html": [
       "<div>\n",
       "<style scoped>\n",
       "    .dataframe tbody tr th:only-of-type {\n",
       "        vertical-align: middle;\n",
       "    }\n",
       "\n",
       "    .dataframe tbody tr th {\n",
       "        vertical-align: top;\n",
       "    }\n",
       "\n",
       "    .dataframe thead th {\n",
       "        text-align: right;\n",
       "    }\n",
       "</style>\n",
       "<table border=\"1\" class=\"dataframe\">\n",
       "  <thead>\n",
       "    <tr style=\"text-align: right;\">\n",
       "      <th></th>\n",
       "      <th>CRIM</th>\n",
       "      <th>ZN</th>\n",
       "      <th>INDUS</th>\n",
       "      <th>CHAS</th>\n",
       "      <th>NOX</th>\n",
       "      <th>RM</th>\n",
       "      <th>AGE</th>\n",
       "      <th>DIS</th>\n",
       "      <th>RAD</th>\n",
       "      <th>TAX</th>\n",
       "      <th>PTRATIO</th>\n",
       "      <th>B</th>\n",
       "      <th>LSTAT</th>\n",
       "      <th>MEDV</th>\n",
       "    </tr>\n",
       "  </thead>\n",
       "  <tbody>\n",
       "    <tr>\n",
       "      <th>count</th>\n",
       "      <td>506.000000</td>\n",
       "      <td>506.000000</td>\n",
       "      <td>506.000000</td>\n",
       "      <td>506.000000</td>\n",
       "      <td>506.000000</td>\n",
       "      <td>506.000000</td>\n",
       "      <td>506.000000</td>\n",
       "      <td>506.000000</td>\n",
       "      <td>506.000000</td>\n",
       "      <td>506.000000</td>\n",
       "      <td>506.000000</td>\n",
       "      <td>506.000000</td>\n",
       "      <td>506.000000</td>\n",
       "      <td>506.000000</td>\n",
       "    </tr>\n",
       "    <tr>\n",
       "      <th>mean</th>\n",
       "      <td>3.613524</td>\n",
       "      <td>11.363636</td>\n",
       "      <td>11.136779</td>\n",
       "      <td>0.069170</td>\n",
       "      <td>0.554695</td>\n",
       "      <td>6.284634</td>\n",
       "      <td>68.574901</td>\n",
       "      <td>3.795043</td>\n",
       "      <td>9.549407</td>\n",
       "      <td>408.237154</td>\n",
       "      <td>18.455534</td>\n",
       "      <td>356.674032</td>\n",
       "      <td>12.653063</td>\n",
       "      <td>22.532806</td>\n",
       "    </tr>\n",
       "    <tr>\n",
       "      <th>std</th>\n",
       "      <td>8.601545</td>\n",
       "      <td>23.322453</td>\n",
       "      <td>6.860353</td>\n",
       "      <td>0.253994</td>\n",
       "      <td>0.115878</td>\n",
       "      <td>0.702617</td>\n",
       "      <td>28.148861</td>\n",
       "      <td>2.105710</td>\n",
       "      <td>8.707259</td>\n",
       "      <td>168.537116</td>\n",
       "      <td>2.164946</td>\n",
       "      <td>91.294864</td>\n",
       "      <td>7.141062</td>\n",
       "      <td>9.197104</td>\n",
       "    </tr>\n",
       "    <tr>\n",
       "      <th>min</th>\n",
       "      <td>0.006320</td>\n",
       "      <td>0.000000</td>\n",
       "      <td>0.460000</td>\n",
       "      <td>0.000000</td>\n",
       "      <td>0.385000</td>\n",
       "      <td>3.561000</td>\n",
       "      <td>2.900000</td>\n",
       "      <td>1.129600</td>\n",
       "      <td>1.000000</td>\n",
       "      <td>187.000000</td>\n",
       "      <td>12.600000</td>\n",
       "      <td>0.320000</td>\n",
       "      <td>1.730000</td>\n",
       "      <td>5.000000</td>\n",
       "    </tr>\n",
       "    <tr>\n",
       "      <th>25%</th>\n",
       "      <td>0.082045</td>\n",
       "      <td>0.000000</td>\n",
       "      <td>5.190000</td>\n",
       "      <td>0.000000</td>\n",
       "      <td>0.449000</td>\n",
       "      <td>5.885500</td>\n",
       "      <td>45.025000</td>\n",
       "      <td>2.100175</td>\n",
       "      <td>4.000000</td>\n",
       "      <td>279.000000</td>\n",
       "      <td>17.400000</td>\n",
       "      <td>375.377500</td>\n",
       "      <td>6.950000</td>\n",
       "      <td>17.025000</td>\n",
       "    </tr>\n",
       "    <tr>\n",
       "      <th>50%</th>\n",
       "      <td>0.256510</td>\n",
       "      <td>0.000000</td>\n",
       "      <td>9.690000</td>\n",
       "      <td>0.000000</td>\n",
       "      <td>0.538000</td>\n",
       "      <td>6.208500</td>\n",
       "      <td>77.500000</td>\n",
       "      <td>3.207450</td>\n",
       "      <td>5.000000</td>\n",
       "      <td>330.000000</td>\n",
       "      <td>19.050000</td>\n",
       "      <td>391.440000</td>\n",
       "      <td>11.360000</td>\n",
       "      <td>21.200000</td>\n",
       "    </tr>\n",
       "    <tr>\n",
       "      <th>75%</th>\n",
       "      <td>3.677082</td>\n",
       "      <td>12.500000</td>\n",
       "      <td>18.100000</td>\n",
       "      <td>0.000000</td>\n",
       "      <td>0.624000</td>\n",
       "      <td>6.623500</td>\n",
       "      <td>94.075000</td>\n",
       "      <td>5.188425</td>\n",
       "      <td>24.000000</td>\n",
       "      <td>666.000000</td>\n",
       "      <td>20.200000</td>\n",
       "      <td>396.225000</td>\n",
       "      <td>16.955000</td>\n",
       "      <td>25.000000</td>\n",
       "    </tr>\n",
       "    <tr>\n",
       "      <th>max</th>\n",
       "      <td>88.976200</td>\n",
       "      <td>100.000000</td>\n",
       "      <td>27.740000</td>\n",
       "      <td>1.000000</td>\n",
       "      <td>0.871000</td>\n",
       "      <td>8.780000</td>\n",
       "      <td>100.000000</td>\n",
       "      <td>12.126500</td>\n",
       "      <td>24.000000</td>\n",
       "      <td>711.000000</td>\n",
       "      <td>22.000000</td>\n",
       "      <td>396.900000</td>\n",
       "      <td>37.970000</td>\n",
       "      <td>50.000000</td>\n",
       "    </tr>\n",
       "  </tbody>\n",
       "</table>\n",
       "</div>"
      ],
      "text/plain": [
       "             CRIM          ZN       INDUS        CHAS         NOX          RM  \\\n",
       "count  506.000000  506.000000  506.000000  506.000000  506.000000  506.000000   \n",
       "mean     3.613524   11.363636   11.136779    0.069170    0.554695    6.284634   \n",
       "std      8.601545   23.322453    6.860353    0.253994    0.115878    0.702617   \n",
       "min      0.006320    0.000000    0.460000    0.000000    0.385000    3.561000   \n",
       "25%      0.082045    0.000000    5.190000    0.000000    0.449000    5.885500   \n",
       "50%      0.256510    0.000000    9.690000    0.000000    0.538000    6.208500   \n",
       "75%      3.677082   12.500000   18.100000    0.000000    0.624000    6.623500   \n",
       "max     88.976200  100.000000   27.740000    1.000000    0.871000    8.780000   \n",
       "\n",
       "              AGE         DIS         RAD         TAX     PTRATIO           B  \\\n",
       "count  506.000000  506.000000  506.000000  506.000000  506.000000  506.000000   \n",
       "mean    68.574901    3.795043    9.549407  408.237154   18.455534  356.674032   \n",
       "std     28.148861    2.105710    8.707259  168.537116    2.164946   91.294864   \n",
       "min      2.900000    1.129600    1.000000  187.000000   12.600000    0.320000   \n",
       "25%     45.025000    2.100175    4.000000  279.000000   17.400000  375.377500   \n",
       "50%     77.500000    3.207450    5.000000  330.000000   19.050000  391.440000   \n",
       "75%     94.075000    5.188425   24.000000  666.000000   20.200000  396.225000   \n",
       "max    100.000000   12.126500   24.000000  711.000000   22.000000  396.900000   \n",
       "\n",
       "            LSTAT        MEDV  \n",
       "count  506.000000  506.000000  \n",
       "mean    12.653063   22.532806  \n",
       "std      7.141062    9.197104  \n",
       "min      1.730000    5.000000  \n",
       "25%      6.950000   17.025000  \n",
       "50%     11.360000   21.200000  \n",
       "75%     16.955000   25.000000  \n",
       "max     37.970000   50.000000  "
      ]
     },
     "execution_count": 5,
     "metadata": {},
     "output_type": "execute_result"
    }
   ],
   "source": [
    "housing_raw.describe()"
   ]
  },
  {
   "cell_type": "code",
   "execution_count": 6,
   "metadata": {},
   "outputs": [
    {
     "name": "stdout",
     "output_type": "stream",
     "text": [
      "<class 'pandas.core.frame.DataFrame'>\n",
      "RangeIndex: 506 entries, 0 to 505\n",
      "Data columns (total 14 columns):\n",
      "CRIM       506 non-null float64\n",
      "ZN         506 non-null float64\n",
      "INDUS      506 non-null float64\n",
      "CHAS       506 non-null int64\n",
      "NOX        506 non-null float64\n",
      "RM         506 non-null float64\n",
      "AGE        506 non-null float64\n",
      "DIS        506 non-null float64\n",
      "RAD        506 non-null int64\n",
      "TAX        506 non-null float64\n",
      "PTRATIO    506 non-null float64\n",
      "B          506 non-null float64\n",
      "LSTAT      506 non-null float64\n",
      "MEDV       506 non-null float64\n",
      "dtypes: float64(12), int64(2)\n",
      "memory usage: 55.4 KB\n"
     ]
    }
   ],
   "source": [
    "housing_raw.info()"
   ]
  },
  {
   "cell_type": "markdown",
   "metadata": {},
   "source": [
    "# The Theoretical Side"
   ]
  },
  {
   "cell_type": "markdown",
   "metadata": {},
   "source": [
    "In the first week, you learned about how to use some supervised learning algorithms. In this second week, we will go slightly deeper, to appreciate why machine learning works. We still stay in the realm of supervised learning, but many of the concepts learned here are applicable to general machine learning."
   ]
  },
  {
   "cell_type": "markdown",
   "metadata": {},
   "source": [
    "# 1. Model Complexity"
   ]
  },
  {
   "cell_type": "markdown",
   "metadata": {},
   "source": [
    "We want to demonstrate the impact of implementing complicated models. <br> __Explore the dataset and choose one variable that you think can be most predictive of the target variable (price) in the Boston dataset.__ <br> (Please provide justification to the variable you chose in writing)."
   ]
  },
  {
   "cell_type": "markdown",
   "metadata": {},
   "source": [
    "### CRIM (per capita crime rate by town)"
   ]
  },
  {
   "cell_type": "code",
   "execution_count": 7,
   "metadata": {},
   "outputs": [
    {
     "data": {
      "image/png": "[encoded data removed]",
      "text/plain": [
       "<Figure size 432x288 with 1 Axes>"
      ]
     },
     "metadata": {
      "needs_background": "light"
     },
     "output_type": "display_data"
    }
   ],
   "source": [
    "plt.clf()   # Clear figure\n",
    "plt.scatter(housing_raw['CRIM'], housing_raw['MEDV'])\n",
    "plt.xlabel(\"per capita crime rate by town\")\n",
    "plt.ylabel(\"Median value of owner-occupied homes in $1000’s\")\n",
    "plt.title('Plot of MEDV against CRIM')\n",
    "\n",
    "# Definition of tick_val and tick_lab\n",
    "xtick_val = [0,20,40,60,80,100]\n",
    "ytick_val = [0,10,20,30,40,50]\n",
    "ytick_lab = ['0','10k','20k','30k','40k','50k']\n",
    "\n",
    "# Adapt the ticks on the axis\n",
    "plt.xticks(xtick_val)\n",
    "plt.yticks(ytick_val, ytick_lab)\n",
    "\n",
    "plt.show()"
   ]
  },
  {
   "cell_type": "markdown",
   "metadata": {},
   "source": [
    "### ZN (proportion of residential land zoned for lots over 25,000 sq.ft.)"
   ]
  },
  {
   "cell_type": "code",
   "execution_count": 8,
   "metadata": {},
   "outputs": [
    {
     "data": {
      "image/png": "[encoded data removed]",
      "text/plain": [
       "<Figure size 432x288 with 1 Axes>"
      ]
     },
     "metadata": {
      "needs_background": "light"
     },
     "output_type": "display_data"
    }
   ],
   "source": [
    "plt.clf()   # Clear figure\n",
    "plt.scatter(housing_raw['ZN'], housing_raw['MEDV'])\n",
    "plt.xlabel(\"proportion of residential land zoned for lots over 25,000 sq.ft. (%)\")\n",
    "plt.ylabel(\"Median value of owner-occupied homes in $1000’s\")\n",
    "plt.title('Plot of MEDV against ZN')\n",
    "\n",
    "# Definition of tick_val and tick_lab\n",
    "xtick_val = [0,20,40,60,80,100]\n",
    "ytick_val = [0,10,20,30,40,50]\n",
    "ytick_lab = ['0','10k','20k','30k','40k','50k']\n",
    "\n",
    "# Adapt the ticks on the axis\n",
    "plt.xticks(xtick_val)\n",
    "plt.yticks(ytick_val, ytick_lab)\n",
    "\n",
    "plt.show()"
   ]
  },
  {
   "cell_type": "markdown",
   "metadata": {},
   "source": [
    "### INDUS (proportion of non-retail business acres per town)"
   ]
  },
  {
   "cell_type": "code",
   "execution_count": 9,
   "metadata": {},
   "outputs": [
    {
     "data": {
      "image/png": "[encoded data removed]",
      "text/plain": [
       "<Figure size 432x288 with 1 Axes>"
      ]
     },
     "metadata": {
      "needs_background": "light"
     },
     "output_type": "display_data"
    }
   ],
   "source": [
    "plt.clf()   # Clear figure\n",
    "plt.scatter(housing_raw['INDUS'], housing_raw['MEDV'])\n",
    "plt.xlabel(\"proportion of non-retail business acres per town (%)\")\n",
    "plt.ylabel(\"Median value of owner-occupied homes in $1000’s\")\n",
    "plt.title('Plot of MEDV against INDUS')\n",
    "\n",
    "# Definition of tick_val and tick_lab\n",
    "xtick_val = [0,5,10,15,20,25,30]\n",
    "ytick_val = [0,10,20,30,40,50]\n",
    "ytick_lab = ['0','10k','20k','30k','40k','50k']\n",
    "\n",
    "# Adapt the ticks on the axis\n",
    "plt.xticks(xtick_val)\n",
    "plt.yticks(ytick_val, ytick_lab)\n",
    "\n",
    "plt.show()"
   ]
  },
  {
   "cell_type": "markdown",
   "metadata": {},
   "source": [
    "### CHAS (Charles River dummy variable (= 1 if tract bounds river; 0 otherwise))"
   ]
  },
  {
   "cell_type": "code",
   "execution_count": 10,
   "metadata": {},
   "outputs": [
    {
     "data": {
      "image/png": "[encoded data removed]",
      "text/plain": [
       "<Figure size 432x288 with 1 Axes>"
      ]
     },
     "metadata": {
      "needs_background": "light"
     },
     "output_type": "display_data"
    }
   ],
   "source": [
    "plt.clf()   # Clear figure\n",
    "plt.scatter(housing_raw['CHAS'], housing_raw['MEDV'])\n",
    "plt.xlabel(\"Charles River dummy variable (= 1 if tract bounds river; 0 otherwise)\")\n",
    "plt.ylabel(\"Median value of owner-occupied homes in $1000’s\")\n",
    "plt.title('Plot of MEDV against CHAS')\n",
    "\n",
    "# Definition of tick_val and tick_lab\n",
    "xtick_val = [0,1]\n",
    "ytick_val = [0,10,20,30,40,50]\n",
    "ytick_lab = ['0','10k','20k','30k','40k','50k']\n",
    "\n",
    "# Adapt the ticks on the axis\n",
    "plt.xticks(xtick_val)\n",
    "plt.yticks(ytick_val, ytick_lab)\n",
    "\n",
    "plt.show()"
   ]
  },
  {
   "cell_type": "code",
   "execution_count": 11,
   "metadata": {},
   "outputs": [
    {
     "data": {
      "text/plain": [
       "<seaborn.axisgrid.FacetGrid at 0x1cda3413518>"
      ]
     },
     "execution_count": 11,
     "metadata": {},
     "output_type": "execute_result"
    },
    {
     "data": {
      "image/png": "[encoded data removed]",
      "text/plain": [
       "<Figure size 432x216 with 2 Axes>"
      ]
     },
     "metadata": {
      "needs_background": "light"
     },
     "output_type": "display_data"
    }
   ],
   "source": [
    "g = sns.FacetGrid(housing_raw, col='CHAS')\n",
    "g.map(plt.hist, 'MEDV', bins=20)"
   ]
  },
  {
   "cell_type": "markdown",
   "metadata": {},
   "source": [
    "### NOX (nitric oxides concentration (parts per 10 million))"
   ]
  },
  {
   "cell_type": "code",
   "execution_count": 12,
   "metadata": {},
   "outputs": [
    {
     "data": {
      "image/png": "[encoded data removed]",
      "text/plain": [
       "<Figure size 432x288 with 1 Axes>"
      ]
     },
     "metadata": {
      "needs_background": "light"
     },
     "output_type": "display_data"
    }
   ],
   "source": [
    "plt.clf()   # Clear figure\n",
    "plt.scatter(housing_raw['NOX'], housing_raw['MEDV'])\n",
    "plt.xlabel(\"nitric oxides concentration (parts per 10 million)\")\n",
    "plt.ylabel(\"Median value of owner-occupied homes in $1000’s\")\n",
    "plt.title('Plot of MEDV against NOX')\n",
    "\n",
    "# Definition of tick_val and tick_lab\n",
    "xtick_val = [0.4,0.5,0.6,0.7,0.8,0.9]\n",
    "ytick_val = [0,10,20,30,40,50]\n",
    "ytick_lab = ['0','10k','20k','30k','40k','50k']\n",
    "\n",
    "# Adapt the ticks on the axis\n",
    "plt.xticks(xtick_val)\n",
    "plt.yticks(ytick_val, ytick_lab)\n",
    "\n",
    "plt.show()"
   ]
  },
  {
   "cell_type": "markdown",
   "metadata": {},
   "source": [
    "### RM (average number of rooms per dwelling)"
   ]
  },
  {
   "cell_type": "code",
   "execution_count": 13,
   "metadata": {},
   "outputs": [
    {
     "data": {
      "image/png": "[encoded data removed]",
      "text/plain": [
       "<Figure size 432x288 with 1 Axes>"
      ]
     },
     "metadata": {
      "needs_background": "light"
     },
     "output_type": "display_data"
    }
   ],
   "source": [
    "plt.clf()   # Clear figure\n",
    "plt.scatter(housing_raw['RM'], housing_raw['MEDV'])\n",
    "plt.xlabel(\"average number of rooms per dwelling\")\n",
    "plt.ylabel(\"Median value of owner-occupied homes in $1000’s\")\n",
    "plt.title('Plot of MEDV against RM')\n",
    "\n",
    "# Definition of tick_val and tick_lab\n",
    "ytick_val = [0,10,20,30,40,50]\n",
    "ytick_lab = ['0','10k','20k','30k','40k','50k']\n",
    "\n",
    "# Adapt the ticks on the axis\n",
    "plt.yticks(ytick_val, ytick_lab)\n",
    "\n",
    "plt.show()"
   ]
  },
  {
   "cell_type": "markdown",
   "metadata": {},
   "source": [
    "### AGE (proportion of owner-occupied units built prior to 1940)"
   ]
  },
  {
   "cell_type": "code",
   "execution_count": 14,
   "metadata": {},
   "outputs": [
    {
     "data": {
      "image/png": "[encoded data removed]",
      "text/plain": [
       "<Figure size 432x288 with 1 Axes>"
      ]
     },
     "metadata": {
      "needs_background": "light"
     },
     "output_type": "display_data"
    }
   ],
   "source": [
    "plt.clf()   # Clear figure\n",
    "plt.scatter(housing_raw['AGE'], housing_raw['MEDV'])\n",
    "plt.xlabel(\"proportion of owner-occupied units built prior to 1940 (%)\")\n",
    "plt.ylabel(\"Median value of owner-occupied homes in $1000’s\")\n",
    "plt.title('Plot of MEDV against AGE')\n",
    "\n",
    "# Definition of tick_val and tick_lab\n",
    "ytick_val = [0,10,20,30,40,50]\n",
    "ytick_lab = ['0','10k','20k','30k','40k','50k']\n",
    "\n",
    "# Adapt the ticks on the axis\n",
    "plt.yticks(ytick_val, ytick_lab)\n",
    "\n",
    "plt.show()"
   ]
  },
  {
   "cell_type": "markdown",
   "metadata": {},
   "source": [
    "### DIS (weighted distances to five Boston employment centres)"
   ]
  },
  {
   "cell_type": "code",
   "execution_count": 15,
   "metadata": {},
   "outputs": [
    {
     "data": {
      "image/png": "[encoded data removed]",
      "text/plain": [
       "<Figure size 432x288 with 1 Axes>"
      ]
     },
     "metadata": {
      "needs_background": "light"
     },
     "output_type": "display_data"
    }
   ],
   "source": [
    "plt.clf()   # Clear figure\n",
    "plt.scatter(housing_raw['DIS'], housing_raw['MEDV'])\n",
    "plt.xlabel(\"weighted distances to five Boston employment centres\")\n",
    "plt.ylabel(\"Median value of owner-occupied homes in $1000’s\")\n",
    "plt.title('Plot of MEDV against DIS')\n",
    "\n",
    "# Definition of tick_val and tick_lab\n",
    "ytick_val = [0,10,20,30,40,50]\n",
    "ytick_lab = ['0','10k','20k','30k','40k','50k']\n",
    "\n",
    "# Adapt the ticks on the axis\n",
    "plt.yticks(ytick_val, ytick_lab)\n",
    "\n",
    "plt.show()"
   ]
  },
  {
   "cell_type": "markdown",
   "metadata": {},
   "source": [
    "### RAD (index of accessibility to radial highways)"
   ]
  },
  {
   "cell_type": "code",
   "execution_count": 16,
   "metadata": {},
   "outputs": [
    {
     "data": {
      "image/png": "[encoded data removed]",
      "text/plain": [
       "<Figure size 432x288 with 1 Axes>"
      ]
     },
     "metadata": {
      "needs_background": "light"
     },
     "output_type": "display_data"
    }
   ],
   "source": [
    "plt.clf()   # Clear figure\n",
    "plt.scatter(housing_raw['RAD'], housing_raw['MEDV'])\n",
    "plt.xlabel(\"index of accessibility to radial highways\")\n",
    "plt.ylabel(\"Median value of owner-occupied homes in $1000’s\")\n",
    "plt.title('Plot of MEDV against RAD')\n",
    "\n",
    "# Definition of tick_val and tick_lab\n",
    "ytick_val = [0,10,20,30,40,50]\n",
    "ytick_lab = ['0','10k','20k','30k','40k','50k']\n",
    "\n",
    "# Adapt the ticks on the axis\n",
    "plt.yticks(ytick_val, ytick_lab)\n",
    "\n",
    "plt.show()"
   ]
  },
  {
   "cell_type": "markdown",
   "metadata": {},
   "source": [
    "### TAX (full-value property-tax rate per $10,000)"
   ]
  },
  {
   "cell_type": "code",
   "execution_count": 17,
   "metadata": {},
   "outputs": [
    {
     "data": {
      "image/png": "[encoded data removed]",
      "text/plain": [
       "<Figure size 432x288 with 1 Axes>"
      ]
     },
     "metadata": {
      "needs_background": "light"
     },
     "output_type": "display_data"
    }
   ],
   "source": [
    "plt.clf()   # Clear figure\n",
    "plt.scatter(housing_raw['TAX'], housing_raw['MEDV'])\n",
    "plt.xlabel(\"full-value property-tax rate per $10,000\")\n",
    "plt.ylabel(\"Median value of owner-occupied homes in $1000’s\")\n",
    "plt.title('Plot of MEDV against TAX')\n",
    "\n",
    "# Definition of tick_val and tick_lab\n",
    "ytick_val = [0,10,20,30,40,50]\n",
    "ytick_lab = ['0','10k','20k','30k','40k','50k']\n",
    "\n",
    "# Adapt the ticks on the axis\n",
    "plt.yticks(ytick_val, ytick_lab)\n",
    "\n",
    "plt.show()"
   ]
  },
  {
   "cell_type": "markdown",
   "metadata": {},
   "source": [
    "### PTRATIO (pupil-teacher ratio by town)"
   ]
  },
  {
   "cell_type": "code",
   "execution_count": 18,
   "metadata": {},
   "outputs": [
    {
     "data": {
      "image/png": "[encoded data removed]",
      "text/plain": [
       "<Figure size 432x288 with 1 Axes>"
      ]
     },
     "metadata": {
      "needs_background": "light"
     },
     "output_type": "display_data"
    }
   ],
   "source": [
    "plt.clf()   # Clear figure\n",
    "plt.scatter(housing_raw['PTRATIO'], housing_raw['MEDV'])\n",
    "plt.xlabel(\"pupil-teacher ratio by town\")\n",
    "plt.ylabel(\"Median value of owner-occupied homes in $1000’s\")\n",
    "plt.title('Plot of MEDV against PTRATIO')\n",
    "\n",
    "# Definition of tick_val and tick_lab\n",
    "ytick_val = [0,10,20,30,40,50]\n",
    "ytick_lab = ['0','10k','20k','30k','40k','50k']\n",
    "\n",
    "# Adapt the ticks on the axis\n",
    "plt.yticks(ytick_val, ytick_lab)\n",
    "\n",
    "plt.show()"
   ]
  },
  {
   "cell_type": "markdown",
   "metadata": {},
   "source": [
    "### B (1000(Bk - 0.63)^2 where Bk is the proportion of blacks by town)"
   ]
  },
  {
   "cell_type": "code",
   "execution_count": 19,
   "metadata": {},
   "outputs": [
    {
     "data": {
      "image/png": "[encoded data removed]",
      "text/plain": [
       "<Figure size 432x288 with 1 Axes>"
      ]
     },
     "metadata": {
      "needs_background": "light"
     },
     "output_type": "display_data"
    }
   ],
   "source": [
    "plt.clf()   # Clear figure\n",
    "plt.scatter(housing_raw['B'], housing_raw['MEDV'])\n",
    "plt.xlabel(\"1000(Bk - 0.63)^2 where Bk is the proportion of blacks by town\")\n",
    "plt.ylabel(\"Median value of owner-occupied homes in $1000’s\")\n",
    "plt.title('Plot of MEDV against B')\n",
    "\n",
    "# Definition of tick_val and tick_lab\n",
    "ytick_val = [0,10,20,30,40,50]\n",
    "ytick_lab = ['0','10k','20k','30k','40k','50k']\n",
    "\n",
    "# Adapt the ticks on the axis\n",
    "plt.yticks(ytick_val, ytick_lab)\n",
    "\n",
    "plt.show()"
   ]
  },
  {
   "cell_type": "markdown",
   "metadata": {},
   "source": [
    "### LSTAT (% lower status of the population)"
   ]
  },
  {
   "cell_type": "code",
   "execution_count": 20,
   "metadata": {},
   "outputs": [
    {
     "data": {
      "image/png": "[encoded data removed]",
      "text/plain": [
       "<Figure size 432x288 with 1 Axes>"
      ]
     },
     "metadata": {
      "needs_background": "light"
     },
     "output_type": "display_data"
    }
   ],
   "source": [
    "plt.clf()   # Clear figure\n",
    "plt.scatter(housing_raw['LSTAT'], housing_raw['MEDV'])\n",
    "plt.xlabel(\"% lower status of the population\")\n",
    "plt.ylabel(\"Median value of owner-occupied homes in $1000’s\")\n",
    "plt.title('Plot of MEDV against LSTAT')\n",
    "\n",
    "# Definition of tick_val and tick_lab\n",
    "ytick_val = [0,10,20,30,40,50]\n",
    "ytick_lab = ['0','10k','20k','30k','40k','50k']\n",
    "\n",
    "# Adapt the ticks on the axis\n",
    "plt.yticks(ytick_val, ytick_lab)\n",
    "\n",
    "plt.show()"
   ]
  },
  {
   "cell_type": "markdown",
   "metadata": {},
   "source": [
    "_(Provide your verbal answer here)_"
   ]
  },
  {
   "cell_type": "markdown",
   "metadata": {},
   "source": [
    "From the scatter plots of all the variables, it appears LSTAT is likely the single variable that is most predictive of the target. There is a clear observable trend. There is also minimal spread of of points along each vertical axis, meaning each value of LSTAT does not have data points that span over the entire range of the target value ($0 to $50K). So with each value of the LSTAT you can predict a narrower range of the expected MEDV than from using other variables. There is also minimal anomalous data points along each value of LSTAT that can influence the prediction erroneously."
   ]
  },
  {
   "cell_type": "markdown",
   "metadata": {},
   "source": [
    "__Create a linear regression model, and try to predict the price based on the parameter you chose:__"
   ]
  },
  {
   "cell_type": "code",
   "execution_count": 21,
   "metadata": {},
   "outputs": [],
   "source": [
    "X_housing_single = housing_raw[[\"LSTAT\"]]\n",
    "Y_housing = housing_raw[[\"MEDV\"]]"
   ]
  },
  {
   "cell_type": "code",
   "execution_count": 22,
   "metadata": {},
   "outputs": [],
   "source": [
    "X_housing_single_train, X_housing_single_cv, Y_housing_train, Y_housing_cv = train_test_split(X_housing_single, \n",
    "                                                    Y_housing,\n",
    "                                                    train_size=0.7, \n",
    "                                                    test_size=0.3, \n",
    "                                                    random_state=0)"
   ]
  },
  {
   "cell_type": "code",
   "execution_count": 23,
   "metadata": {},
   "outputs": [
    {
     "data": {
      "text/plain": [
       "0.5218049526125568"
      ]
     },
     "execution_count": 23,
     "metadata": {},
     "output_type": "execute_result"
    }
   ],
   "source": [
    "reg1 = LinearRegression().fit(X_housing_single_train, Y_housing_train)\n",
    "reg1.score(X_housing_single_cv, Y_housing_cv)"
   ]
  },
  {
   "cell_type": "markdown",
   "metadata": {},
   "source": [
    "__Extract the coefficients or weights of the linear model interpret what they mean.__ <br> Make sure you visualise the linear regression line and comment on how the line fits the data."
   ]
  },
  {
   "cell_type": "code",
   "execution_count": 24,
   "metadata": {},
   "outputs": [
    {
     "data": {
      "text/plain": [
       "array([[-0.96814078]])"
      ]
     },
     "execution_count": 24,
     "metadata": {},
     "output_type": "execute_result"
    }
   ],
   "source": [
    "reg1.coef_"
   ]
  },
  {
   "cell_type": "code",
   "execution_count": 25,
   "metadata": {},
   "outputs": [
    {
     "data": {
      "image/png": "[encoded data removed]",
      "text/plain": [
       "<Figure size 432x288 with 1 Axes>"
      ]
     },
     "metadata": {
      "needs_background": "light"
     },
     "output_type": "display_data"
    }
   ],
   "source": [
    "prediction_space = np.linspace(min(housing_raw['LSTAT']), max(housing_raw['LSTAT'])).reshape(-1,1)\n",
    "y_pred_plot = reg1.predict(prediction_space)\n",
    "\n",
    "plt.clf()   # Clear figure\n",
    "plt.scatter(housing_raw['LSTAT'], housing_raw['MEDV'])\n",
    "plt.plot(prediction_space, y_pred_plot, color='black', linewidth=3)\n",
    "\n",
    "plt.xlabel(\"% lower status of the population\")\n",
    "plt.ylabel(\"Median value of owner-occupied homes in $1000’s\")\n",
    "plt.title('Plot of MEDV against LSTAT')\n",
    "\n",
    "# Definition of tick_val and tick_lab\n",
    "ytick_val = [0,10,20,30,40,50]\n",
    "ytick_lab = ['0','10k','20k','30k','40k','50k']\n",
    "\n",
    "# Adapt the ticks on the axis\n",
    "plt.yticks(ytick_val, ytick_lab)\n",
    "\n",
    "plt.show()"
   ]
  },
  {
   "cell_type": "markdown",
   "metadata": {},
   "source": [
    "_(Provide your verbal answer here)_"
   ]
  },
  {
   "cell_type": "markdown",
   "metadata": {},
   "source": [
    "The data forms a wide band around the linear regression line. While the line appears to follow the general trend of the data, it does not follow the slight curvature of the data points. In addition, many of the data points are quite far from the line. Hence each prediction from the model will have a wide error range. Which is why the prediction score is low."
   ]
  },
  {
   "cell_type": "markdown",
   "metadata": {},
   "source": [
    "Linear regression is considered a simple model, using a polynomial model introduces a higher complexity. <br>\n",
    "__Find and implement two more models (with medium and high complexity) to predict the target variable, using the same variable you chose for the previous part__ (Be sure to visualize your result and comment about the fit).\n",
    "\n",
    "Fit and plot your medium complexity model here:"
   ]
  },
  {
   "cell_type": "code",
   "execution_count": 26,
   "metadata": {},
   "outputs": [
    {
     "data": {
      "text/plain": [
       "0.6145861618613051"
      ]
     },
     "execution_count": 26,
     "metadata": {},
     "output_type": "execute_result"
    }
   ],
   "source": [
    "poly = PolynomialFeatures(degree=3)\n",
    "X_housing_single_train_3 = poly.fit_transform(X_housing_single_train)\n",
    "X_housing_single_cv_3 = poly.fit_transform(X_housing_single_cv)\n",
    "reg3 = LinearRegression().fit(X_housing_single_train_3, Y_housing_train)\n",
    "reg3.score(X_housing_single_cv_3, Y_housing_cv)"
   ]
  },
  {
   "cell_type": "code",
   "execution_count": 27,
   "metadata": {},
   "outputs": [
    {
     "data": {
      "image/png": "[encoded data removed]",
      "text/plain": [
       "<Figure size 432x288 with 1 Axes>"
      ]
     },
     "metadata": {
      "needs_background": "light"
     },
     "output_type": "display_data"
    }
   ],
   "source": [
    "plt.clf()   # Clear figure\n",
    "\n",
    "# Sorting the x records for plotting of curve\n",
    "X_housing_single_train_sorted = X_housing_single_train.sort_values('LSTAT')\n",
    "X_housing_single_train_sorted_3 = poly.fit_transform(X_housing_single_train_sorted)\n",
    "\n",
    "plt.scatter(X_housing_single_train, Y_housing_train)\n",
    "plt.plot(X_housing_single_train_sorted, reg3.predict(X_housing_single_train_sorted_3), color='k')\n",
    "\n",
    "plt.xlabel(\"% lower status of the population\")\n",
    "plt.ylabel(\"Median value of owner-occupied homes in $1000’s\")\n",
    "plt.title('Plot of MEDV against LSTAT')\n",
    "\n",
    "# Definition of tick_val and tick_lab\n",
    "ytick_val = [0,10,20,30,40,50]\n",
    "ytick_lab = ['0','10k','20k','30k','40k','50k']\n",
    "\n",
    "# Adapt the ticks on the axis\n",
    "plt.yticks(ytick_val, ytick_lab)\n",
    "\n",
    "plt.show()"
   ]
  },
  {
   "cell_type": "markdown",
   "metadata": {},
   "source": [
    "Fit and plot your high complexity model here:"
   ]
  },
  {
   "cell_type": "code",
   "execution_count": 28,
   "metadata": {},
   "outputs": [
    {
     "data": {
      "text/plain": [
       "0.6415440639029076"
      ]
     },
     "execution_count": 28,
     "metadata": {},
     "output_type": "execute_result"
    }
   ],
   "source": [
    "poly = PolynomialFeatures(degree=5)\n",
    "X_housing_single_train_5 = poly.fit_transform(X_housing_single_train)\n",
    "X_housing_single_cv_5 = poly.fit_transform(X_housing_single_cv)\n",
    "reg5 = LinearRegression().fit(X_housing_single_train_5, Y_housing_train)\n",
    "reg5.score(X_housing_single_cv_5, Y_housing_cv)"
   ]
  },
  {
   "cell_type": "code",
   "execution_count": 29,
   "metadata": {},
   "outputs": [
    {
     "data": {
      "image/png": "[encoded data removed]",
      "text/plain": [
       "<Figure size 432x288 with 1 Axes>"
      ]
     },
     "metadata": {
      "needs_background": "light"
     },
     "output_type": "display_data"
    }
   ],
   "source": [
    "plt.clf()   # Clear figure\n",
    "\n",
    "# Sorting the x records for plotting of curve\n",
    "X_housing_single_train_sorted = X_housing_single_train.sort_values('LSTAT')\n",
    "X_housing_single_train_sorted_5 = poly.fit_transform(X_housing_single_train_sorted)\n",
    "\n",
    "plt.scatter(X_housing_single_train, Y_housing_train)\n",
    "plt.plot(X_housing_single_train_sorted, reg5.predict(X_housing_single_train_sorted_5), color='k')\n",
    "\n",
    "plt.xlabel(\"% lower status of the population\")\n",
    "plt.ylabel(\"Median value of owner-occupied homes in $1000’s\")\n",
    "plt.title('Plot of MEDV against LSTAT')\n",
    "\n",
    "# Definition of tick_val and tick_lab\n",
    "ytick_val = [0,10,20,30,40,50]\n",
    "ytick_lab = ['0','10k','20k','30k','40k','50k']\n",
    "\n",
    "# Adapt the ticks on the axis\n",
    "plt.yticks(ytick_val, ytick_lab)\n",
    "\n",
    "plt.show()"
   ]
  },
  {
   "cell_type": "markdown",
   "metadata": {},
   "source": [
    "Use the following section to answer: which of the models has the best fit and why?"
   ]
  },
  {
   "cell_type": "markdown",
   "metadata": {},
   "source": [
    "_(Provide your answer here)_"
   ]
  },
  {
   "cell_type": "markdown",
   "metadata": {},
   "source": [
    "The model with the highest complexity appears to have the best fit. Increasing the polynomial function increases the ability of the curve to fit closer to the data points by allowing for more bends along the line."
   ]
  },
  {
   "cell_type": "markdown",
   "metadata": {},
   "source": [
    "__Find a quantitative way of measuring the model fit__ <br>\n",
    "Calculate it for each one of the models and compare the results to your visual inspection interpretation:"
   ]
  },
  {
   "cell_type": "code",
   "execution_count": 30,
   "metadata": {},
   "outputs": [
    {
     "data": {
      "text/html": [
       "<div>\n",
       "<style scoped>\n",
       "    .dataframe tbody tr th:only-of-type {\n",
       "        vertical-align: middle;\n",
       "    }\n",
       "\n",
       "    .dataframe tbody tr th {\n",
       "        vertical-align: top;\n",
       "    }\n",
       "\n",
       "    .dataframe thead th {\n",
       "        text-align: right;\n",
       "    }\n",
       "</style>\n",
       "<table border=\"1\" class=\"dataframe\">\n",
       "  <thead>\n",
       "    <tr style=\"text-align: right;\">\n",
       "      <th></th>\n",
       "      <th>Power</th>\n",
       "      <th>RMSE</th>\n",
       "    </tr>\n",
       "  </thead>\n",
       "  <tbody>\n",
       "    <tr>\n",
       "      <th>0</th>\n",
       "      <td>1</td>\n",
       "      <td>6.310083</td>\n",
       "    </tr>\n",
       "    <tr>\n",
       "      <th>1</th>\n",
       "      <td>3</td>\n",
       "      <td>5.664952</td>\n",
       "    </tr>\n",
       "    <tr>\n",
       "      <th>2</th>\n",
       "      <td>5</td>\n",
       "      <td>5.463242</td>\n",
       "    </tr>\n",
       "  </tbody>\n",
       "</table>\n",
       "</div>"
      ],
      "text/plain": [
       "   Power      RMSE\n",
       "0      1  6.310083\n",
       "1      3  5.664952\n",
       "2      5  5.463242"
      ]
     },
     "execution_count": 30,
     "metadata": {},
     "output_type": "execute_result"
    }
   ],
   "source": [
    "y_pred_1 = reg1.predict(X_housing_single_cv)\n",
    "y_pred_3 = reg3.predict(X_housing_single_cv_3)\n",
    "y_pred_5 = reg5.predict(X_housing_single_cv_5)\n",
    "y_preds = [y_pred_1, y_pred_3, y_pred_5]\n",
    "power = [1,3,5]\n",
    "Y_rmse = []\n",
    "\n",
    "for y_pred in y_preds:\n",
    "    Y_rmse.append(np.sqrt(mean_squared_error(Y_housing_cv, y_pred)))\n",
    "    \n",
    "fit_measure = { 'Power':power, 'RMSE':Y_rmse}\n",
    "df_fit_measure = pd.DataFrame(fit_measure)\n",
    "df_fit_measure"
   ]
  },
  {
   "cell_type": "markdown",
   "metadata": {},
   "source": [
    "If you did the exercise right, you should see the viaual and quantative fit increase in the same direction as the model complexity. \n",
    "\n",
    "\n",
    "##### But is fitness a good measure of a model?\n",
    "In order to put this question to the test, __perform a cross-validation test for the three models and compare between them:__"
   ]
  },
  {
   "cell_type": "code",
   "execution_count": 31,
   "metadata": {},
   "outputs": [
    {
     "name": "stdout",
     "output_type": "stream",
     "text": [
      "[0.31784807 0.5406078  0.07608699 0.42423767 0.1267687 ]\n",
      "[0.43502316 0.73578317 0.33372492 0.49515335 0.29006058]\n",
      "[0.5026087  0.7695249  0.32339874 0.53681747 0.37357483]\n",
      "Average R2 for model using degree 1 dataset: 0.29710984600668633\n",
      "Average R2 for model using degree 3 dataset: 0.45794903499035283\n",
      "Average R2 for model using degree 5 dataset: 0.5011849275393513\n"
     ]
    }
   ],
   "source": [
    "# Cross-validation using degree 1 dataset\n",
    "reg_cv_1 = LinearRegression()\n",
    "cv_scores_1 = cross_val_score(reg_cv_1, X_housing_single, Y_housing, cv=5)\n",
    "\n",
    "# Cross-validation using degree 3 dataset\n",
    "poly3 = PolynomialFeatures(degree=3)\n",
    "X_housing_single_3 = poly3.fit_transform(X_housing_single)\n",
    "reg_cv_3 = LinearRegression()\n",
    "cv_scores_3 = cross_val_score(reg_cv_3, X_housing_single_3, Y_housing, cv=5)\n",
    "\n",
    "# Cross-validation using degree 3 dataset\n",
    "poly5 = PolynomialFeatures(degree=5)\n",
    "X_housing_single_5 = poly5.fit_transform(X_housing_single)\n",
    "reg_cv_5 = LinearRegression()\n",
    "cv_scores_5 = cross_val_score(reg_cv_5, X_housing_single_5, Y_housing, cv=5)\n",
    "\n",
    "print(cv_scores_1)\n",
    "print(cv_scores_3)\n",
    "print(cv_scores_5)\n",
    "print(\"Average R2 for model using degree 1 dataset: {}\".format(np.mean(cv_scores_1)))\n",
    "print(\"Average R2 for model using degree 3 dataset: {}\".format(np.mean(cv_scores_3)))\n",
    "print(\"Average R2 for model using degree 5 dataset: {}\".format(np.mean(cv_scores_5)))"
   ]
  },
  {
   "cell_type": "code",
   "execution_count": 32,
   "metadata": {},
   "outputs": [
    {
     "data": {
      "text/plain": [
       "(506, 4)"
      ]
     },
     "execution_count": 32,
     "metadata": {},
     "output_type": "execute_result"
    }
   ],
   "source": [
    "X_housing_single_3.shape"
   ]
  },
  {
   "cell_type": "code",
   "execution_count": 33,
   "metadata": {},
   "outputs": [
    {
     "data": {
      "text/plain": [
       "(506, 6)"
      ]
     },
     "execution_count": 33,
     "metadata": {},
     "output_type": "execute_result"
    }
   ],
   "source": [
    "X_housing_single_5.shape"
   ]
  },
  {
   "cell_type": "markdown",
   "metadata": {},
   "source": [
    "What measure did you use to compare between the models and why? <br>\n",
    "Which one fits the data the best? Explain that result"
   ]
  },
  {
   "cell_type": "markdown",
   "metadata": {},
   "source": [
    "_(Provide your answer here)_"
   ]
  },
  {
   "cell_type": "markdown",
   "metadata": {},
   "source": [
    "R^2 is used to compare between the models since the question here is about the fit. R^2 is a measure of how close the data are to the fitted regression line. So it is a good measure in this case.\n",
    "\n",
    "In this case, the model with the highest polynomial feature fits the data the best. This is because only 1 variable is used and increasing its power allow for the model trained to be able to follow the data more closely. Which lead to a better R^2 score."
   ]
  },
  {
   "cell_type": "markdown",
   "metadata": {},
   "source": [
    "Let's try to extend this discussion by including all the remaining variables in the Boston dataset. <br> __Fit the three models, use _all_ the variables in the Boston dataset and compare their cross validation scores.__ <br> See if you observe the same patterns as when using one variable."
   ]
  },
  {
   "cell_type": "code",
   "execution_count": 34,
   "metadata": {
    "scrolled": true
   },
   "outputs": [
    {
     "name": "stdout",
     "output_type": "stream",
     "text": [
      "[ 0.63919994  0.71386698  0.58702344  0.07923081 -0.25294154]\n",
      "[-1.26447920e+06 -1.39108468e+08 -1.41212468e+07 -1.18512682e+04\n",
      " -4.88509577e+05]\n",
      "[-4.26266407e+02 -7.17053299e+03 -1.03537908e+03 -1.51718229e+03\n",
      " -8.42120311e+06]\n",
      "Average R2 for model using degree 1 dataset: 0.3532759243958815\n",
      "Average R2 for model using degree 3 dataset: -30998910.870210208\n",
      "Average R2 for model using degree 5 dataset: -1686270.4946918234\n"
     ]
    }
   ],
   "source": [
    "X = housing_raw.drop('MEDV', axis=1)\n",
    "Y = housing_raw['MEDV']\n",
    "\n",
    "# Cross-validation using degree 1 dataset\n",
    "full_reg_cv_1 = LinearRegression()\n",
    "full_cv_scores_1 = cross_val_score(full_reg_cv_1, X, Y, cv=5)\n",
    "\n",
    "# Cross-validation using degree 3 dataset\n",
    "poly3 = PolynomialFeatures(degree=3)\n",
    "X_3 = poly3.fit_transform(X)\n",
    "full_reg_cv_3 = LinearRegression()\n",
    "full_cv_scores_3 = cross_val_score(full_reg_cv_3, X_3, Y, cv=5)\n",
    "\n",
    "# Cross-validation using degree 3 dataset\n",
    "poly5 = PolynomialFeatures(degree=5)\n",
    "X_5 = poly5.fit_transform(X)\n",
    "full_reg_cv_5 = LinearRegression()\n",
    "full_cv_scores_5 = cross_val_score(full_reg_cv_5, X_5, Y, cv=5)\n",
    "\n",
    "print(full_cv_scores_1)\n",
    "print(full_cv_scores_3)\n",
    "print(full_cv_scores_5)\n",
    "print(\"Average R2 for model using degree 1 dataset: {}\".format(np.mean(full_cv_scores_1)))\n",
    "print(\"Average R2 for model using degree 3 dataset: {}\".format(np.mean(full_cv_scores_3)))\n",
    "print(\"Average R2 for model using degree 5 dataset: {}\".format(np.mean(full_cv_scores_5)))"
   ]
  },
  {
   "cell_type": "code",
   "execution_count": 35,
   "metadata": {},
   "outputs": [
    {
     "data": {
      "text/plain": [
       "(506, 560)"
      ]
     },
     "execution_count": 35,
     "metadata": {},
     "output_type": "execute_result"
    }
   ],
   "source": [
    "X_3.shape"
   ]
  },
  {
   "cell_type": "code",
   "execution_count": 36,
   "metadata": {},
   "outputs": [
    {
     "data": {
      "text/plain": [
       "(506, 8568)"
      ]
     },
     "execution_count": 36,
     "metadata": {},
     "output_type": "execute_result"
    }
   ],
   "source": [
    "X_5.shape"
   ]
  },
  {
   "cell_type": "markdown",
   "metadata": {},
   "source": [
    "- For each model, explain the differences you encountered when expanding the dataset.<br>\n",
    "- Compare the current result between models and try to explain it."
   ]
  },
  {
   "cell_type": "markdown",
   "metadata": {},
   "source": [
    "_(Provide your answer here)_"
   ]
  },
  {
   "cell_type": "markdown",
   "metadata": {},
   "source": [
    "By increasing the number of variables used that are not dependent to each other this increases the complexity of the dataset. Further taking a polynomial on all the variables makes it even more complex. \n",
    "\n",
    "In the 1st model, the added features without adding their polynomial helps to improve the fit of the model. The new features in this case helps to provides more dimension for the model to learn that improves the prediction outcome.\n",
    "\n",
    "However for the 2nd and 3rd model, the R^2 becomes negative with added features and their polynomial. For R^2 to behave normally, the assumption is that the model is more accurate at predicting than taking the mean of all the variables. Hence normally R^2 should give a value between 0 to 1. However, if the model is worse than taking the mean of all the variables, that is it is basically very bad at predicting, then it will result in a negative R^2. \n",
    "\n",
    "Because of the number of added variables, taking a power 3 and power 5 polynomial resulted in having more features than the number of records. There were too little data and training on a sub-set of this result in a model that is very overfitted and cannot generalise at all. In this case, the model is so bad that it is worse than a model that just takes the mean of all the features."
   ]
  },
  {
   "cell_type": "markdown",
   "metadata": {},
   "source": [
    "Ref about R Squared: http://www.fairlynerdy.com/what-is-r-squared/"
   ]
  },
  {
   "cell_type": "markdown",
   "metadata": {},
   "source": [
    "Share your thoughts/conclusions regarding complexity in modeling:"
   ]
  },
  {
   "cell_type": "markdown",
   "metadata": {},
   "source": [
    "_(Provide your answer here)_"
   ]
  },
  {
   "cell_type": "markdown",
   "metadata": {},
   "source": [
    "Increasing the number of features by taking their polynomial might help in giving a better model. However be careful with the number of features you end up with. It is not true that the more features there are, the better the model will be. If there are too many features and too little data, this would likely lead to overfitting of the model. However if there are a lot of data but only very limited number of features, this might result in an under-fitted model and it would be worthwhile to consider adding more features."
   ]
  },
  {
   "cell_type": "markdown",
   "metadata": {},
   "source": [
    "__Expending our discussion on model complexity, comment below how one can decrease/increase complexity in the following families of algorithms:__ \n",
    "- Decision tree \n",
    "- Artificial neural network \n",
    "- Support vector machine\n",
    "- K-nearest neighbour\n",
    "- Bayesian method (optional)"
   ]
  },
  {
   "cell_type": "markdown",
   "metadata": {},
   "source": [
    "_(Provide your answer here)_"
   ]
  },
  {
   "cell_type": "markdown",
   "metadata": {},
   "source": [
    "#### Decision Tree\n",
    "Specifying how pure each nodes is required to be, minimally how many samples have to be in each node and how deep the tree can be are some attributes that can affect the complexity of a decision tree. \n",
    "\n",
    "#### Artificial neural network\n",
    "For neutral network, the number of features, number of layers and how many nodes/neurons in each layers will affect the complexity of the algorithm.\n",
    "\n",
    "#### Support vector machine\n",
    "For SVM, the types of kernel used affects the complexity of the algorithm. \n",
    "\n",
    "#### K-nearest neighbour\n",
    "For K-nearest neighbour, the number of neighbours to take average for each point as well as how distance is treated affects the complexity of the algorithm.\n",
    "\n",
    "#### Bayesian method\n",
    "For Bayesian, the type of probability function selected affects the complexity of the algorithm."
   ]
  },
  {
   "cell_type": "markdown",
   "metadata": {},
   "source": [
    "__Provide the best explanation/definition (using your own words) of over/under-fitting:__"
   ]
  },
  {
   "cell_type": "markdown",
   "metadata": {},
   "source": [
    "_(Provide your answer here)_"
   ]
  },
  {
   "cell_type": "markdown",
   "metadata": {},
   "source": [
    "Over-fitting is when your model fits your training data very well. The model can predict the target accurately given the training data's features. However, the model does not generalise. Given data that the model has not seen, it might predict it poorly.\n",
    "\n",
    "Under-fitting is when your model does not even fit your training data well. Feeding the training data back into the model that it has trained does not even give good prediction. New data gets predicted poorly by the model as well."
   ]
  },
  {
   "cell_type": "markdown",
   "metadata": {},
   "source": [
    "# 2. Bias Variance Trade-Off"
   ]
  },
  {
   "cell_type": "markdown",
   "metadata": {},
   "source": [
    "One might claim machine learning is about balancing. If that's the case, what measure can we use to find the right balance? \n",
    "\n",
    "From a more theoretical perspective, two useful measures are bias and variance.<br>\n",
    "In an intuitive sense, __bias__ is how off-the-mark our prediction/estimate tends to be with respect to the true value we are trying to predict. Usually we get bias because of inherent limitation in the model/algorithm we choose, for example linear regression is limited only to fit linear patterns, and hence \"biased\" towards linearity. <br>\n",
    "__Variance__ is how flexible the predictions made by the model can be to fit more complicated patterns in data. Highly complex models tend to have high variance. This comes as a cost; as flexibility increases, the sensitivity of the models to the training data that they try to fit increases, resulting in the predictions being more distributed away from the true values. \n",
    "\n",
    "__This is just the tip of the iceberg, we encourage you to pause your work on the notebook for now and seek more information about the relationship to get a better understanding before we dive in.__\n",
    "\n",
    "Bias and variance is a trade-off, increasing one decreases the other.<br> __Provide an explanation to why this is so:__\n"
   ]
  },
  {
   "cell_type": "markdown",
   "metadata": {},
   "source": [
    "_(Provide your answer here)_"
   ]
  },
  {
   "cell_type": "markdown",
   "metadata": {},
   "source": [
    "This is related to the model complexity. As complexity increases, bias usually decreases. But as complexity increases, variance would also increase."
   ]
  },
  {
   "cell_type": "markdown",
   "metadata": {},
   "source": [
    "__Provide mathematical formulas for the bias, the variance and the overall prediction error of a model:__"
   ]
  },
  {
   "cell_type": "markdown",
   "metadata": {},
   "source": [
    "Bias = E[f^(x)]−f(x)\n",
    "<br>\n",
    "<br>\n",
    "Variance = E[(f^(x)−E[f^(x)])<sup>2</sup>]\n",
    "<br>\n",
    "<br>\n",
    "Overall prediction error = Bias<sup>2</sup> + Variance + Irreducible Error\n",
    "<br>\n",
    "Err(x) = (E[f^(x)]−f(x))<sup>2</sup> + E[(f^(x)−E[f^(x)])<sup>2</sup>] + σ<sup>2</sup>"
   ]
  },
  {
   "cell_type": "markdown",
   "metadata": {},
   "source": [
    "Shifting our focus to a more practical approach, we will now try and demonstrate how to find the right balance between bias variance when fitting a model. \n",
    "\n",
    "__Define a high order polynomial curve to fit:__ <br>\n",
    "(One example is: $f(x)=0.2x^{5}-3.5x^{4}+21x^{3}-53x^{2}+37x+0.6$ (you are free to define another function)"
   ]
  },
  {
   "cell_type": "code",
   "execution_count": 37,
   "metadata": {},
   "outputs": [],
   "source": [
    "def f(x):\n",
    "    return 0.2*x**5 - 3.5*x**4 + 21*x**3 - 53*x**2 + 37*x + 0.6"
   ]
  },
  {
   "cell_type": "markdown",
   "metadata": {},
   "source": [
    "Plot the function you created:"
   ]
  },
  {
   "cell_type": "code",
   "execution_count": 38,
   "metadata": {},
   "outputs": [
    {
     "data": {
      "image/png": "[encoded data removed]",
      "text/plain": [
       "<Figure size 432x288 with 1 Axes>"
      ]
     },
     "metadata": {
      "needs_background": "light"
     },
     "output_type": "display_data"
    }
   ],
   "source": [
    "x = np.linspace(0,8,50)\n",
    "plt.plot(x, f(x))\n",
    "plt.show()"
   ]
  },
  {
   "cell_type": "markdown",
   "metadata": {},
   "source": [
    "Our goal is to estimate this function using polynomial regression. In real-life cases, the true function is not accessible to us, only noisy estimates around it.\n",
    "\n",
    "__Now, simulate a training data by introducing random errors on the curve.__<br>The training data should look like the figure below (make sure you have at least a 1000 observations)."
   ]
  },
  {
   "cell_type": "markdown",
   "metadata": {},
   "source": [
    "<img src=\"./training_data.png\">"
   ]
  },
  {
   "cell_type": "code",
   "execution_count": 39,
   "metadata": {},
   "outputs": [
    {
     "data": {
      "text/html": [
       "<div>\n",
       "<style scoped>\n",
       "    .dataframe tbody tr th:only-of-type {\n",
       "        vertical-align: middle;\n",
       "    }\n",
       "\n",
       "    .dataframe tbody tr th {\n",
       "        vertical-align: top;\n",
       "    }\n",
       "\n",
       "    .dataframe thead th {\n",
       "        text-align: right;\n",
       "    }\n",
       "</style>\n",
       "<table border=\"1\" class=\"dataframe\">\n",
       "  <thead>\n",
       "    <tr style=\"text-align: right;\">\n",
       "      <th></th>\n",
       "      <th>Random_X</th>\n",
       "      <th>Random_Y</th>\n",
       "    </tr>\n",
       "  </thead>\n",
       "  <tbody>\n",
       "    <tr>\n",
       "      <th>0</th>\n",
       "      <td>0.000000</td>\n",
       "      <td>2.143123</td>\n",
       "    </tr>\n",
       "    <tr>\n",
       "      <th>1</th>\n",
       "      <td>0.008008</td>\n",
       "      <td>1.918239</td>\n",
       "    </tr>\n",
       "    <tr>\n",
       "      <th>2</th>\n",
       "      <td>0.016016</td>\n",
       "      <td>-0.075884</td>\n",
       "    </tr>\n",
       "    <tr>\n",
       "      <th>3</th>\n",
       "      <td>0.024024</td>\n",
       "      <td>4.254189</td>\n",
       "    </tr>\n",
       "    <tr>\n",
       "      <th>4</th>\n",
       "      <td>0.032032</td>\n",
       "      <td>3.291558</td>\n",
       "    </tr>\n",
       "  </tbody>\n",
       "</table>\n",
       "</div>"
      ],
      "text/plain": [
       "   Random_X  Random_Y\n",
       "0  0.000000  2.143123\n",
       "1  0.008008  1.918239\n",
       "2  0.016016 -0.075884\n",
       "3  0.024024  4.254189\n",
       "4  0.032032  3.291558"
      ]
     },
     "execution_count": 39,
     "metadata": {},
     "output_type": "execute_result"
    }
   ],
   "source": [
    "def random_floats(low, high, size):\n",
    "    return [np.random.uniform(low, high) for _ in range(size)]\n",
    "\n",
    "def noise():\n",
    "    mu0 = 0\n",
    "    sigma0 = 4\n",
    "    return st.norm.rvs(mu0, sigma0, size = 1)\n",
    "\n",
    "# Sets a list of random floats\n",
    "# ran_x = random_floats(0, 8, 1000)\n",
    "ran_x = np.linspace(0,8,1000)\n",
    "\n",
    "# Convert list of x to numpy array\n",
    "np_ran_x = np.array(ran_x)\n",
    "\n",
    "# Generate numpy array of y START\n",
    "np_ran_y_without_noise = f(np_ran_x)\n",
    "\n",
    "noise_list = []\n",
    "for i in range(1000):\n",
    "    noise_list.append(noise())\n",
    "np_noise_list = np.array(noise_list)\n",
    "np_ran_y = np_ran_y_without_noise.reshape(-1,1) + np_noise_list\n",
    "# Generate numpy array of y END\n",
    "\n",
    "dataset = pd.DataFrame({'Random_X':np_ran_x.reshape(-1,1).flatten(),'Random_Y':np_ran_y.flatten()})\n",
    "\n",
    "dataset.head()"
   ]
  },
  {
   "cell_type": "code",
   "execution_count": 40,
   "metadata": {},
   "outputs": [
    {
     "data": {
      "image/png": "[encoded data removed]",
      "text/plain": [
       "<Figure size 432x288 with 1 Axes>"
      ]
     },
     "metadata": {
      "needs_background": "light"
     },
     "output_type": "display_data"
    }
   ],
   "source": [
    "plt.clf\n",
    "plt.scatter(dataset['Random_X'], dataset['Random_Y'])\n",
    "plt.show()"
   ]
  },
  {
   "cell_type": "code",
   "execution_count": 41,
   "metadata": {},
   "outputs": [],
   "source": [
    "# Saving generated dataset to csv file\n",
    "# dataset[['Random_X', 'Random_Y']].to_csv('data/bias_variance.csv', index=False)"
   ]
  },
  {
   "cell_type": "markdown",
   "metadata": {},
   "source": [
    "Spare a few hundreds samples to use as the validation set (and plot it):"
   ]
  },
  {
   "cell_type": "code",
   "execution_count": 42,
   "metadata": {},
   "outputs": [],
   "source": [
    "bv_raw = pd.read_csv('data/bias_variance.csv')\n",
    "\n",
    "X_bv = bv_raw[\"Random_X\"]\n",
    "y_bv = bv_raw[\"Random_Y\"]\n",
    "\n",
    "X_bv_train, X_bv_test, y_bv_train, y_bv_test = train_test_split(X_bv, \n",
    "                                                    y_bv,\n",
    "                                                    train_size=0.8, \n",
    "                                                    test_size=0.2, \n",
    "                                                    random_state=0)"
   ]
  },
  {
   "cell_type": "code",
   "execution_count": 43,
   "metadata": {},
   "outputs": [
    {
     "data": {
      "image/png": "[encoded data removed]",
      "text/plain": [
       "<Figure size 432x288 with 1 Axes>"
      ]
     },
     "metadata": {
      "needs_background": "light"
     },
     "output_type": "display_data"
    }
   ],
   "source": [
    "plt.clf\n",
    "plt.scatter(X_bv_test, y_bv_test)\n",
    "plt.show()"
   ]
  },
  {
   "cell_type": "markdown",
   "metadata": {},
   "source": [
    "Using the remaining data, build 500 linear regression models, each by randomly sampling 80 observations from the pool:"
   ]
  },
  {
   "cell_type": "code",
   "execution_count": 44,
   "metadata": {
    "scrolled": true
   },
   "outputs": [
    {
     "name": "stdout",
     "output_type": "stream",
     "text": [
      "500\n"
     ]
    }
   ],
   "source": [
    "reg_models = []\n",
    "\n",
    "for i in range(500):\n",
    "    X_bulk, X_sample, y_bulk, y_sample = train_test_split(X_bv_train, \n",
    "                                                        y_bv_train,\n",
    "                                                        train_size=0.9, \n",
    "                                                        test_size=0.1)\n",
    "    reg = LinearRegression()\n",
    "    reg.fit(X_sample.to_frame(), y_sample)\n",
    "    reg_models.append(reg)\n",
    "\n",
    "print(len(reg_models))"
   ]
  },
  {
   "cell_type": "markdown",
   "metadata": {},
   "source": [
    "__Calculate the bias square and variance of linear regression by predicting (using the 500 models) the values of the validation set above, and comparing them against the true values from the polynomial curve defined earlier.__ <br> (refer to the bias variance formula to do the calculation)"
   ]
  },
  {
   "cell_type": "code",
   "execution_count": 45,
   "metadata": {},
   "outputs": [
    {
     "data": {
      "text/html": [
       "<div>\n",
       "<style scoped>\n",
       "    .dataframe tbody tr th:only-of-type {\n",
       "        vertical-align: middle;\n",
       "    }\n",
       "\n",
       "    .dataframe tbody tr th {\n",
       "        vertical-align: top;\n",
       "    }\n",
       "\n",
       "    .dataframe thead th {\n",
       "        text-align: right;\n",
       "    }\n",
       "</style>\n",
       "<table border=\"1\" class=\"dataframe\">\n",
       "  <thead>\n",
       "    <tr style=\"text-align: right;\">\n",
       "      <th></th>\n",
       "      <th>Bias_Squared</th>\n",
       "      <th>Variance</th>\n",
       "    </tr>\n",
       "  </thead>\n",
       "  <tbody>\n",
       "    <tr>\n",
       "      <th>0</th>\n",
       "      <td>25.018339</td>\n",
       "      <td>3227.934189</td>\n",
       "    </tr>\n",
       "    <tr>\n",
       "      <th>1</th>\n",
       "      <td>0.047572</td>\n",
       "      <td>3087.857626</td>\n",
       "    </tr>\n",
       "    <tr>\n",
       "      <th>2</th>\n",
       "      <td>30.680731</td>\n",
       "      <td>3384.561158</td>\n",
       "    </tr>\n",
       "    <tr>\n",
       "      <th>3</th>\n",
       "      <td>35.860523</td>\n",
       "      <td>3513.732157</td>\n",
       "    </tr>\n",
       "    <tr>\n",
       "      <th>4</th>\n",
       "      <td>9.834641</td>\n",
       "      <td>3026.164204</td>\n",
       "    </tr>\n",
       "    <tr>\n",
       "      <th>5</th>\n",
       "      <td>12.054585</td>\n",
       "      <td>3512.407616</td>\n",
       "    </tr>\n",
       "    <tr>\n",
       "      <th>6</th>\n",
       "      <td>12.159950</td>\n",
       "      <td>3246.917521</td>\n",
       "    </tr>\n",
       "    <tr>\n",
       "      <th>7</th>\n",
       "      <td>23.317189</td>\n",
       "      <td>3159.380068</td>\n",
       "    </tr>\n",
       "    <tr>\n",
       "      <th>8</th>\n",
       "      <td>34.872795</td>\n",
       "      <td>3753.735888</td>\n",
       "    </tr>\n",
       "    <tr>\n",
       "      <th>9</th>\n",
       "      <td>10.340213</td>\n",
       "      <td>3215.905141</td>\n",
       "    </tr>\n",
       "    <tr>\n",
       "      <th>10</th>\n",
       "      <td>19.059643</td>\n",
       "      <td>3274.162066</td>\n",
       "    </tr>\n",
       "    <tr>\n",
       "      <th>11</th>\n",
       "      <td>14.641284</td>\n",
       "      <td>3175.085515</td>\n",
       "    </tr>\n",
       "    <tr>\n",
       "      <th>12</th>\n",
       "      <td>33.639673</td>\n",
       "      <td>3053.259570</td>\n",
       "    </tr>\n",
       "    <tr>\n",
       "      <th>13</th>\n",
       "      <td>4.040860</td>\n",
       "      <td>3024.705570</td>\n",
       "    </tr>\n",
       "    <tr>\n",
       "      <th>14</th>\n",
       "      <td>37.915556</td>\n",
       "      <td>3460.729952</td>\n",
       "    </tr>\n",
       "    <tr>\n",
       "      <th>15</th>\n",
       "      <td>31.483120</td>\n",
       "      <td>3321.679796</td>\n",
       "    </tr>\n",
       "    <tr>\n",
       "      <th>16</th>\n",
       "      <td>70.941777</td>\n",
       "      <td>3526.270412</td>\n",
       "    </tr>\n",
       "    <tr>\n",
       "      <th>17</th>\n",
       "      <td>13.879627</td>\n",
       "      <td>3454.228937</td>\n",
       "    </tr>\n",
       "    <tr>\n",
       "      <th>18</th>\n",
       "      <td>14.924916</td>\n",
       "      <td>3457.313076</td>\n",
       "    </tr>\n",
       "    <tr>\n",
       "      <th>19</th>\n",
       "      <td>46.910967</td>\n",
       "      <td>3400.962913</td>\n",
       "    </tr>\n",
       "    <tr>\n",
       "      <th>20</th>\n",
       "      <td>37.977729</td>\n",
       "      <td>3506.739074</td>\n",
       "    </tr>\n",
       "    <tr>\n",
       "      <th>21</th>\n",
       "      <td>22.401123</td>\n",
       "      <td>3916.478236</td>\n",
       "    </tr>\n",
       "    <tr>\n",
       "      <th>22</th>\n",
       "      <td>6.547868</td>\n",
       "      <td>3533.630500</td>\n",
       "    </tr>\n",
       "    <tr>\n",
       "      <th>23</th>\n",
       "      <td>21.046105</td>\n",
       "      <td>3213.357598</td>\n",
       "    </tr>\n",
       "    <tr>\n",
       "      <th>24</th>\n",
       "      <td>9.015974</td>\n",
       "      <td>3050.877961</td>\n",
       "    </tr>\n",
       "    <tr>\n",
       "      <th>25</th>\n",
       "      <td>11.261746</td>\n",
       "      <td>3706.877601</td>\n",
       "    </tr>\n",
       "    <tr>\n",
       "      <th>26</th>\n",
       "      <td>29.557491</td>\n",
       "      <td>3446.896487</td>\n",
       "    </tr>\n",
       "    <tr>\n",
       "      <th>27</th>\n",
       "      <td>52.713752</td>\n",
       "      <td>3283.405934</td>\n",
       "    </tr>\n",
       "    <tr>\n",
       "      <th>28</th>\n",
       "      <td>59.404779</td>\n",
       "      <td>3464.301785</td>\n",
       "    </tr>\n",
       "    <tr>\n",
       "      <th>29</th>\n",
       "      <td>53.681678</td>\n",
       "      <td>3423.760097</td>\n",
       "    </tr>\n",
       "    <tr>\n",
       "      <th>...</th>\n",
       "      <td>...</td>\n",
       "      <td>...</td>\n",
       "    </tr>\n",
       "    <tr>\n",
       "      <th>470</th>\n",
       "      <td>34.656336</td>\n",
       "      <td>3401.466340</td>\n",
       "    </tr>\n",
       "    <tr>\n",
       "      <th>471</th>\n",
       "      <td>15.067552</td>\n",
       "      <td>3319.252858</td>\n",
       "    </tr>\n",
       "    <tr>\n",
       "      <th>472</th>\n",
       "      <td>16.367102</td>\n",
       "      <td>3230.212134</td>\n",
       "    </tr>\n",
       "    <tr>\n",
       "      <th>473</th>\n",
       "      <td>22.210974</td>\n",
       "      <td>3379.384255</td>\n",
       "    </tr>\n",
       "    <tr>\n",
       "      <th>474</th>\n",
       "      <td>12.693445</td>\n",
       "      <td>3310.849835</td>\n",
       "    </tr>\n",
       "    <tr>\n",
       "      <th>475</th>\n",
       "      <td>30.568119</td>\n",
       "      <td>3262.379093</td>\n",
       "    </tr>\n",
       "    <tr>\n",
       "      <th>476</th>\n",
       "      <td>20.555939</td>\n",
       "      <td>3516.038160</td>\n",
       "    </tr>\n",
       "    <tr>\n",
       "      <th>477</th>\n",
       "      <td>20.579454</td>\n",
       "      <td>3299.116082</td>\n",
       "    </tr>\n",
       "    <tr>\n",
       "      <th>478</th>\n",
       "      <td>26.325018</td>\n",
       "      <td>3356.673156</td>\n",
       "    </tr>\n",
       "    <tr>\n",
       "      <th>479</th>\n",
       "      <td>29.380477</td>\n",
       "      <td>3603.367584</td>\n",
       "    </tr>\n",
       "    <tr>\n",
       "      <th>480</th>\n",
       "      <td>32.805320</td>\n",
       "      <td>3239.010376</td>\n",
       "    </tr>\n",
       "    <tr>\n",
       "      <th>481</th>\n",
       "      <td>28.421857</td>\n",
       "      <td>3577.872479</td>\n",
       "    </tr>\n",
       "    <tr>\n",
       "      <th>482</th>\n",
       "      <td>59.412036</td>\n",
       "      <td>3658.060710</td>\n",
       "    </tr>\n",
       "    <tr>\n",
       "      <th>483</th>\n",
       "      <td>4.264249</td>\n",
       "      <td>2749.415549</td>\n",
       "    </tr>\n",
       "    <tr>\n",
       "      <th>484</th>\n",
       "      <td>10.870810</td>\n",
       "      <td>3104.172697</td>\n",
       "    </tr>\n",
       "    <tr>\n",
       "      <th>485</th>\n",
       "      <td>22.323401</td>\n",
       "      <td>3420.566934</td>\n",
       "    </tr>\n",
       "    <tr>\n",
       "      <th>486</th>\n",
       "      <td>29.453773</td>\n",
       "      <td>3511.772438</td>\n",
       "    </tr>\n",
       "    <tr>\n",
       "      <th>487</th>\n",
       "      <td>58.078162</td>\n",
       "      <td>3198.602545</td>\n",
       "    </tr>\n",
       "    <tr>\n",
       "      <th>488</th>\n",
       "      <td>29.879703</td>\n",
       "      <td>3282.605944</td>\n",
       "    </tr>\n",
       "    <tr>\n",
       "      <th>489</th>\n",
       "      <td>18.331780</td>\n",
       "      <td>3114.390467</td>\n",
       "    </tr>\n",
       "    <tr>\n",
       "      <th>490</th>\n",
       "      <td>10.205546</td>\n",
       "      <td>3375.568542</td>\n",
       "    </tr>\n",
       "    <tr>\n",
       "      <th>491</th>\n",
       "      <td>12.375001</td>\n",
       "      <td>3238.047636</td>\n",
       "    </tr>\n",
       "    <tr>\n",
       "      <th>492</th>\n",
       "      <td>33.731303</td>\n",
       "      <td>3325.171389</td>\n",
       "    </tr>\n",
       "    <tr>\n",
       "      <th>493</th>\n",
       "      <td>20.128921</td>\n",
       "      <td>3326.887610</td>\n",
       "    </tr>\n",
       "    <tr>\n",
       "      <th>494</th>\n",
       "      <td>24.489374</td>\n",
       "      <td>3386.733636</td>\n",
       "    </tr>\n",
       "    <tr>\n",
       "      <th>495</th>\n",
       "      <td>37.374428</td>\n",
       "      <td>3215.512276</td>\n",
       "    </tr>\n",
       "    <tr>\n",
       "      <th>496</th>\n",
       "      <td>26.706475</td>\n",
       "      <td>3436.355489</td>\n",
       "    </tr>\n",
       "    <tr>\n",
       "      <th>497</th>\n",
       "      <td>5.529317</td>\n",
       "      <td>3707.980515</td>\n",
       "    </tr>\n",
       "    <tr>\n",
       "      <th>498</th>\n",
       "      <td>45.087591</td>\n",
       "      <td>3392.054715</td>\n",
       "    </tr>\n",
       "    <tr>\n",
       "      <th>499</th>\n",
       "      <td>36.652018</td>\n",
       "      <td>3461.409132</td>\n",
       "    </tr>\n",
       "  </tbody>\n",
       "</table>\n",
       "<p>500 rows × 2 columns</p>\n",
       "</div>"
      ],
      "text/plain": [
       "     Bias_Squared     Variance\n",
       "0       25.018339  3227.934189\n",
       "1        0.047572  3087.857626\n",
       "2       30.680731  3384.561158\n",
       "3       35.860523  3513.732157\n",
       "4        9.834641  3026.164204\n",
       "5       12.054585  3512.407616\n",
       "6       12.159950  3246.917521\n",
       "7       23.317189  3159.380068\n",
       "8       34.872795  3753.735888\n",
       "9       10.340213  3215.905141\n",
       "10      19.059643  3274.162066\n",
       "11      14.641284  3175.085515\n",
       "12      33.639673  3053.259570\n",
       "13       4.040860  3024.705570\n",
       "14      37.915556  3460.729952\n",
       "15      31.483120  3321.679796\n",
       "16      70.941777  3526.270412\n",
       "17      13.879627  3454.228937\n",
       "18      14.924916  3457.313076\n",
       "19      46.910967  3400.962913\n",
       "20      37.977729  3506.739074\n",
       "21      22.401123  3916.478236\n",
       "22       6.547868  3533.630500\n",
       "23      21.046105  3213.357598\n",
       "24       9.015974  3050.877961\n",
       "25      11.261746  3706.877601\n",
       "26      29.557491  3446.896487\n",
       "27      52.713752  3283.405934\n",
       "28      59.404779  3464.301785\n",
       "29      53.681678  3423.760097\n",
       "..            ...          ...\n",
       "470     34.656336  3401.466340\n",
       "471     15.067552  3319.252858\n",
       "472     16.367102  3230.212134\n",
       "473     22.210974  3379.384255\n",
       "474     12.693445  3310.849835\n",
       "475     30.568119  3262.379093\n",
       "476     20.555939  3516.038160\n",
       "477     20.579454  3299.116082\n",
       "478     26.325018  3356.673156\n",
       "479     29.380477  3603.367584\n",
       "480     32.805320  3239.010376\n",
       "481     28.421857  3577.872479\n",
       "482     59.412036  3658.060710\n",
       "483      4.264249  2749.415549\n",
       "484     10.870810  3104.172697\n",
       "485     22.323401  3420.566934\n",
       "486     29.453773  3511.772438\n",
       "487     58.078162  3198.602545\n",
       "488     29.879703  3282.605944\n",
       "489     18.331780  3114.390467\n",
       "490     10.205546  3375.568542\n",
       "491     12.375001  3238.047636\n",
       "492     33.731303  3325.171389\n",
       "493     20.128921  3326.887610\n",
       "494     24.489374  3386.733636\n",
       "495     37.374428  3215.512276\n",
       "496     26.706475  3436.355489\n",
       "497      5.529317  3707.980515\n",
       "498     45.087591  3392.054715\n",
       "499     36.652018  3461.409132\n",
       "\n",
       "[500 rows x 2 columns]"
      ]
     },
     "execution_count": 45,
     "metadata": {},
     "output_type": "execute_result"
    }
   ],
   "source": [
    "def truth():\n",
    "    count = 1000\n",
    "    num = np.linspace(0,8,count)\n",
    "    total = 0\n",
    "    for i in num:\n",
    "        total = total + f(i)\n",
    "    return total / count\n",
    "\n",
    "def get_bias_square(y_df):\n",
    "    return (np.mean(y_df) - truth())**2\n",
    "\n",
    "def get_variance(y_df):\n",
    "    return np.mean((y_df - np.mean(y_df))**2)\n",
    "\n",
    "bias_squared_list = []\n",
    "variance_list = []\n",
    "for x in reg_models:\n",
    "    pred = x.predict(X_bv_test.to_frame())\n",
    "    bias_squared_list.append(get_bias_square(pred))\n",
    "    variance_list.append(get_variance(pred))\n",
    "    \n",
    "np_bias_squared = np.array(bias_squared_list)\n",
    "np_variance = np.array(variance_list)\n",
    "bias_variance_df = pd.DataFrame({'Bias_Squared':np_bias_squared.flatten(),'Variance':np_variance.flatten()})\n",
    "\n",
    "bias_variance_df"
   ]
  },
  {
   "cell_type": "markdown",
   "metadata": {},
   "source": [
    "Repeat the whole procedure of calculating bias variance, but this time using polynomial of degrees 2, 3, 4, ..., 15"
   ]
  },
  {
   "cell_type": "code",
   "execution_count": 46,
   "metadata": {},
   "outputs": [
    {
     "name": "stdout",
     "output_type": "stream",
     "text": [
      "[26.215735054558117, 22.396136986592264, 13.930826467325144, 14.847079994737152, 15.139687816066282, 14.891759583003537, 14.93188695009931, 14.759015245024544, 14.76255666337472, 16.254359813784067, 15.94439676873047, 23.50680019676476, 20.177735401363226]\n",
      "[3786.180548883655, 3787.1856024535828, 3849.875743203692, 3678.5768498897396, 3677.5378556752885, 3680.2825450748637, 3682.299831841785, 3682.021499777464, 3691.2431018601255, 3709.381288423629, 3735.5651586977574, 3883.7227048750547, 3830.275021978925]\n",
      "[294.8829382583882, 247.46002936001133, 102.72166359825472, 17.69496778522611, 18.01350595575215, 18.76879506345089, 20.332306218707494, 22.821154096153204, 26.432987586026687, 42.34463772884396, 59.76374029693963, 259.0912247564861, 190.75159195379143]\n"
     ]
    }
   ],
   "source": [
    "def get_poly_data(X_data, deg):\n",
    "    poly = PolynomialFeatures(degree=deg)\n",
    "    X_data_poly = poly.fit_transform(X_data)\n",
    "    \n",
    "    return X_data_poly\n",
    "\n",
    "def train_500_models(X_bv_train, y_bv_train):\n",
    "    reg_models = []\n",
    "\n",
    "    for i in range(500):\n",
    "        X_bulk, X_sample, y_bulk, y_sample = train_test_split(X_bv_train, \n",
    "                                                            y_bv_train,\n",
    "                                                            train_size=0.9, \n",
    "                                                            test_size=0.1)\n",
    "        reg = LinearRegression()\n",
    "        reg.fit(X_sample, y_sample)\n",
    "        reg_models.append(reg)\n",
    "    \n",
    "    return reg_models\n",
    "\n",
    "def get_bias_variance_df(reg_models, X_bv_test, y_bv_test):\n",
    "    bias_squared_list = []\n",
    "    variance_list = []\n",
    "    mse_list = []\n",
    "    for x in reg_models:\n",
    "        pred = x.predict(X_bv_test)\n",
    "        bias_squared_list.append(get_bias_square(pred))\n",
    "        variance_list.append(get_variance(pred))\n",
    "        mse_list.append(mean_squared_error(y_bv_test, pred))\n",
    "    \n",
    "    np_bias_squared = np.array(bias_squared_list)\n",
    "    np_variance = np.array(variance_list)\n",
    "    np_mse = np.array(mse_list)\n",
    "    bias_variance_df = pd.DataFrame({'Bias_Squared':np_bias_squared.flatten(),'Variance':np_variance.flatten(),'MSE':np_mse.flatten()})\n",
    "    \n",
    "    return bias_variance_df\n",
    "\n",
    "def get_mean_bias_variance_by_power(X_bv_train, X_bv_test, y_bv_train, y_bv_test, deg):\n",
    "    X_bv_train_2 = get_poly_data(X_bv_train.values.reshape(-1, 1), deg)\n",
    "    reg_models_2 = train_500_models(X_bv_train_2, y_bv_train)\n",
    "    X_bv_test_2 = get_poly_data(X_bv_test.values.reshape(-1, 1), deg)\n",
    "    bias_variance_df_2 = get_bias_variance_df(reg_models_2, X_bv_test_2, y_bv_test)\n",
    "\n",
    "    return bias_variance_df_2\n",
    "\n",
    "\n",
    "# START OF CALCULATING OF BIAS & VARIANCE OF DIFFERENT POWER\n",
    "degree_list = np.arange(2,15)\n",
    "bias_list = []\n",
    "variance_list = []\n",
    "mse_list = []\n",
    "\n",
    "for deg in degree_list:\n",
    "    bias_variance_df = get_mean_bias_variance_by_power(X_bv_train, X_bv_test, y_bv_train, y_bv_test, deg)\n",
    "    bias_list.append(bias_variance_df[\"Bias_Squared\"].mean())\n",
    "    variance_list.append(bias_variance_df[\"Variance\"].mean())\n",
    "    mse_list.append(bias_variance_df[\"MSE\"].mean())\n",
    "    \n",
    "print(bias_list)\n",
    "print(variance_list)\n",
    "print(mse_list)"
   ]
  },
  {
   "cell_type": "markdown",
   "metadata": {},
   "source": [
    "Plot the bias and variance (as y) vs. the model complexity/polynomial degree (as x)"
   ]
  },
  {
   "cell_type": "code",
   "execution_count": 67,
   "metadata": {},
   "outputs": [
    {
     "data": {
      "image/png": "[encoded data removed]",
      "text/plain": [
       "<Figure size 432x288 with 1 Axes>"
      ]
     },
     "metadata": {
      "needs_background": "light"
     },
     "output_type": "display_data"
    }
   ],
   "source": [
    "plt.clf\n",
    "plt.plot(degree_list, bias_list, color='b')\n",
    "# plt.plot(degree_list, variance_list, color='g')\n",
    "plt.show()"
   ]
  },
  {
   "cell_type": "markdown",
   "metadata": {},
   "source": [
    "Where is the optimal balance point? Which polynomial degree is that? <br>\n",
    "Find out more and elaborate on the meaning and importance that point of balance."
   ]
  },
  {
   "cell_type": "markdown",
   "metadata": {},
   "source": [
    "_(Provide your answer here)_"
   ]
  },
  {
   "cell_type": "markdown",
   "metadata": {},
   "source": [
    "# The Practical Side "
   ]
  },
  {
   "cell_type": "markdown",
   "metadata": {},
   "source": [
    "Bias-variance trade-off is one of the most critical components of model tuning. You will need to find the right point in terms of model complexity to derive the best results for your model.\n",
    "\n",
    "In practice, however, it is impossible to calculate bias and variance for an actual dataset. Try to explain why this is impossible below:"
   ]
  },
  {
   "cell_type": "markdown",
   "metadata": {},
   "source": [
    "_(Provide your answer here)_"
   ]
  },
  {
   "cell_type": "markdown",
   "metadata": {},
   "source": [
    "It is impossible to find the true bias of any dataset, because you don't know what is the ideal function that the dataset is trying to describe. We can only try to model a function that fits closely to the dataset and hopefully that model follows the truth close enough. If you know the function, then there isn't a need to build and train a model to begin with.\n",
    "\n",
    "As for variance you can get the variance of the training data that you have. However, we would not know how accurate the data is a representation of the real world population. The variance that we get might not be very close to the truth."
   ]
  },
  {
   "cell_type": "markdown",
   "metadata": {},
   "source": [
    "Repeat the procedure you used to calculate bias-variance above, but this time calculate mean squared error instead. <br> Overlay the MSE on the bias variance plot earlier and comment on the observation."
   ]
  },
  {
   "cell_type": "code",
   "execution_count": 48,
   "metadata": {},
   "outputs": [
    {
     "data": {
      "image/png": "[encoded data removed]",
      "text/plain": [
       "<Figure size 432x288 with 1 Axes>"
      ]
     },
     "metadata": {
      "needs_background": "light"
     },
     "output_type": "display_data"
    }
   ],
   "source": [
    "plt.clf\n",
    "plt.plot(degree_list, bias_list, color='b')\n",
    "plt.plot(degree_list, variance_list, color='g')\n",
    "plt.plot(degree_list, mse_list, color='r')\n",
    "plt.show()"
   ]
  },
  {
   "cell_type": "markdown",
   "metadata": {},
   "source": [
    "_(Provide your answer here)_"
   ]
  },
  {
   "cell_type": "markdown",
   "metadata": {},
   "source": [
    "# 3. Out-of-sample Validation"
   ]
  },
  {
   "cell_type": "markdown",
   "metadata": {},
   "source": [
    "Hence, we will go back to using mean squared errors (MSE) to tune our models. In reality, validation error is the most reliable source of information you can get, provided you do validation properly. You might have realised that MSE scores are negative when you put them through the `cross_val_score` method - do think about why this is so as well.\n",
    "\n",
    "If you would like to do any data exploration, you can do them here."
   ]
  },
  {
   "cell_type": "code",
   "execution_count": 49,
   "metadata": {},
   "outputs": [
    {
     "data": {
      "text/html": [
       "<div>\n",
       "<style scoped>\n",
       "    .dataframe tbody tr th:only-of-type {\n",
       "        vertical-align: middle;\n",
       "    }\n",
       "\n",
       "    .dataframe tbody tr th {\n",
       "        vertical-align: top;\n",
       "    }\n",
       "\n",
       "    .dataframe thead th {\n",
       "        text-align: right;\n",
       "    }\n",
       "</style>\n",
       "<table border=\"1\" class=\"dataframe\">\n",
       "  <thead>\n",
       "    <tr style=\"text-align: right;\">\n",
       "      <th></th>\n",
       "      <th>Random_X</th>\n",
       "      <th>Random_Y</th>\n",
       "    </tr>\n",
       "  </thead>\n",
       "  <tbody>\n",
       "    <tr>\n",
       "      <th>count</th>\n",
       "      <td>800.000000</td>\n",
       "      <td>800.000000</td>\n",
       "    </tr>\n",
       "    <tr>\n",
       "      <th>mean</th>\n",
       "      <td>3.949740</td>\n",
       "      <td>-67.886247</td>\n",
       "    </tr>\n",
       "    <tr>\n",
       "      <th>std</th>\n",
       "      <td>2.323663</td>\n",
       "      <td>62.455958</td>\n",
       "    </tr>\n",
       "    <tr>\n",
       "      <th>min</th>\n",
       "      <td>0.000000</td>\n",
       "      <td>-185.255226</td>\n",
       "    </tr>\n",
       "    <tr>\n",
       "      <th>25%</th>\n",
       "      <td>1.851852</td>\n",
       "      <td>-126.027762</td>\n",
       "    </tr>\n",
       "    <tr>\n",
       "      <th>50%</th>\n",
       "      <td>3.967968</td>\n",
       "      <td>-46.936618</td>\n",
       "    </tr>\n",
       "    <tr>\n",
       "      <th>75%</th>\n",
       "      <td>5.951952</td>\n",
       "      <td>-16.103210</td>\n",
       "    </tr>\n",
       "    <tr>\n",
       "      <th>max</th>\n",
       "      <td>7.991992</td>\n",
       "      <td>17.763606</td>\n",
       "    </tr>\n",
       "  </tbody>\n",
       "</table>\n",
       "</div>"
      ],
      "text/plain": [
       "         Random_X    Random_Y\n",
       "count  800.000000  800.000000\n",
       "mean     3.949740  -67.886247\n",
       "std      2.323663   62.455958\n",
       "min      0.000000 -185.255226\n",
       "25%      1.851852 -126.027762\n",
       "50%      3.967968  -46.936618\n",
       "75%      5.951952  -16.103210\n",
       "max      7.991992   17.763606"
      ]
     },
     "execution_count": 49,
     "metadata": {},
     "output_type": "execute_result"
    }
   ],
   "source": [
    "bv_train = pd.concat([X_bv_train, y_bv_train], axis=1)\n",
    "bv_train.describe()"
   ]
  },
  {
   "cell_type": "markdown",
   "metadata": {},
   "source": [
    "We will begin by building simple baseline models for our dataset. We will start with 3 baseline models: linear regression, k-nearest neighbours and decision trees. Build a simple regression model for each of them. Evaluate and report their performance, and identify the best model by preliminary performance."
   ]
  },
  {
   "cell_type": "markdown",
   "metadata": {},
   "source": [
    "## 3.1 Linear Regression"
   ]
  },
  {
   "cell_type": "code",
   "execution_count": 50,
   "metadata": {},
   "outputs": [
    {
     "data": {
      "text/plain": [
       "341.8264813819628"
      ]
     },
     "execution_count": 50,
     "metadata": {},
     "output_type": "execute_result"
    }
   ],
   "source": [
    "reg = LinearRegression()\n",
    "reg.fit(X_bv_train.to_frame(), y_bv_train)\n",
    "reg_pred = reg.predict(X_bv_test.to_frame())\n",
    "mean_squared_error(y_bv_test, reg_pred)"
   ]
  },
  {
   "cell_type": "markdown",
   "metadata": {},
   "source": [
    "## 3.2 K-Nearest Neighbours"
   ]
  },
  {
   "cell_type": "code",
   "execution_count": 51,
   "metadata": {},
   "outputs": [
    {
     "data": {
      "text/plain": [
       "19.90224344498778"
      ]
     },
     "execution_count": 51,
     "metadata": {},
     "output_type": "execute_result"
    }
   ],
   "source": [
    "neighbour = KNeighborsRegressor()\n",
    "neighbour.fit(X_bv_train.to_frame(), y_bv_train)\n",
    "neighbour_pred = neighbour.predict(X_bv_test.to_frame())\n",
    "mean_squared_error(y_bv_test, neighbour_pred)"
   ]
  },
  {
   "cell_type": "markdown",
   "metadata": {},
   "source": [
    "## 3.3 Decision Tree"
   ]
  },
  {
   "cell_type": "code",
   "execution_count": 52,
   "metadata": {},
   "outputs": [
    {
     "data": {
      "text/plain": [
       "31.962970745754383"
      ]
     },
     "execution_count": 52,
     "metadata": {},
     "output_type": "execute_result"
    }
   ],
   "source": [
    "tree = DecisionTreeRegressor()\n",
    "tree.fit(X_bv_train.to_frame(), y_bv_train)\n",
    "tree_pred = tree.predict(X_bv_test.to_frame())\n",
    "mean_squared_error(y_bv_test, tree_pred)"
   ]
  },
  {
   "cell_type": "markdown",
   "metadata": {},
   "source": [
    "## Theoretical Considerations"
   ]
  },
  {
   "cell_type": "markdown",
   "metadata": {},
   "source": [
    "How do we ensure that our models are reliably evaluated? Specifically, in the area of out-of-sample validation, how do we decide to use `train_test_split` vs `cross_val_score`?"
   ]
  },
  {
   "cell_type": "markdown",
   "metadata": {},
   "source": [
    "To ensure our models are reliably evaluted, we should implement cross validation and tune the model based on it. In this way, we can reduce the amount of overfitting since cross validation allows us to check our model that was trained using in-sample data by the out-of-sample data. However using cross validation to tune the model is in a way still training the model on a set of in-sample data. Ideally we should have a hold-out set to validate on our finalised model to see how it will perform on a totally unseen dataset.\n",
    "\n",
    "For implementing the above strategy, we can use the train_test_split to create the hold-out set for the final evaluation of our model. cross_val_score will be used for tuning of our model."
   ]
  },
  {
   "cell_type": "markdown",
   "metadata": {},
   "source": [
    "Given that the dataset has only ~500 rows of data, what are the challenges we face, and how can we best mitigate these issues?"
   ]
  },
  {
   "cell_type": "markdown",
   "metadata": {},
   "source": [
    "Given a relatively small dataset, we risk overfitting our model to our data. One way is to implement multi-fold cross validation to reduce the overfitting issue. We should also carry out hyperparameter tuning. We should evaluate how our model perform over different hyperparameter for the training set versus the test set. In this way, we can see if the model is overfitted to the training data and pick the best hyperparameter that does not overfit."
   ]
  },
  {
   "cell_type": "markdown",
   "metadata": {},
   "source": [
    "# 4. Hyperparameter exploration"
   ]
  },
  {
   "cell_type": "markdown",
   "metadata": {},
   "source": [
    "We will now start to look at hyperparameters for these models. Considering between the 3 models, k-nearest neighbours probably has the least hyperparameters to tune, and is also the simplest computationally. Hence, let's start with k-nearest neighbours. You might not want to try all of these parameters, considering limited time. This is a good time to do some research with respect to what parameters to optimise.\n",
    "\n",
    "When conducting a parameter search, the idea of grid search immediately comes to mind. Why do we usually use grid search, and in what situations should we use other search options?"
   ]
  },
  {
   "cell_type": "markdown",
   "metadata": {},
   "source": [
    "Grid search allow us to easily sample over a range of all the parameters that we are interested in for tuning our model. We will be able to find the optimal set of parameters for our model that improves the score and reduces overfitting. \n",
    "\n",
    "However if the paramter set is large and your dataset is huge, it would be very resource intensive to run the full grid search. An alternative is RandomizedSearchCV. It searches randomly over the range of parameters that you specify. It is not as exhaustive as the grid search but it is less resource intensive if resource is an issue.\n",
    "\n",
    "One possible approach is to use randomized search first to get a rough ideal set of parameters. Then do a grid search in the area of the initial set that randomized search suggest. But one risk is that you might get stuck in a local optimum."
   ]
  },
  {
   "cell_type": "markdown",
   "metadata": {},
   "source": [
    "Why do we not use gradient descent to identify the right parameters?"
   ]
  },
  {
   "cell_type": "markdown",
   "metadata": {},
   "source": [
    "The parameter search is not a convex problem. There are many local optimum, so gradient descent might frequently get stuck in a local optimum even if you do random starts. "
   ]
  },
  {
   "cell_type": "code",
   "execution_count": 58,
   "metadata": {},
   "outputs": [],
   "source": [
    "X_selection_train, X_selection_test, y_selection_train, y_selection_test = train_test_split(X_selection_2, \n",
    "                                                    y_selection,\n",
    "                                                    train_size=0.7, \n",
    "                                                    test_size=0.3, \n",
    "                                                    random_state=0)"
   ]
  },
  {
   "cell_type": "code",
   "execution_count": 59,
   "metadata": {},
   "outputs": [
    {
     "data": {
      "text/plain": [
       "(354, 105)"
      ]
     },
     "execution_count": 59,
     "metadata": {},
     "output_type": "execute_result"
    }
   ],
   "source": [
    "X_selection_train.shape"
   ]
  },
  {
   "cell_type": "markdown",
   "metadata": {},
   "source": [
    "## 4.1 KNN"
   ]
  },
  {
   "cell_type": "code",
   "execution_count": 53,
   "metadata": {
    "scrolled": true
   },
   "outputs": [
    {
     "data": {
      "text/plain": [
       "{'algorithm': 'auto',\n",
       " 'leaf_size': 30,\n",
       " 'metric': 'minkowski',\n",
       " 'metric_params': None,\n",
       " 'n_jobs': 1,\n",
       " 'n_neighbors': 5,\n",
       " 'p': 2,\n",
       " 'weights': 'uniform'}"
      ]
     },
     "execution_count": 53,
     "metadata": {},
     "output_type": "execute_result"
    }
   ],
   "source": [
    "neighbour.get_params()"
   ]
  },
  {
   "cell_type": "code",
   "execution_count": 69,
   "metadata": {
    "scrolled": true
   },
   "outputs": [
    {
     "name": "stdout",
     "output_type": "stream",
     "text": [
      "Tuned K Nearest Neighbours Parameters: {'algorithm': 'ball_tree', 'n_jobs': 1, 'n_neighbors': 4, 'weights': 'distance'}\n",
      "Best score is 0.4311304388729744\n"
     ]
    }
   ],
   "source": [
    "param_grid = {'n_neighbors': np.arange(1,5), 'n_jobs':np.arange(1,5), 'algorithm':['ball_tree','kd_tree'], 'weights':['uniform','distance']}\n",
    "neighbour_cv = GridSearchCV(neighbour, param_grid, cv=5)\n",
    "\n",
    "neighbour_cv.fit(X_selection_train, y_selection_train)\n",
    "\n",
    "print(\"Tuned K Nearest Neighbours Parameters: {}\".format(neighbour_cv.best_params_)) \n",
    "print(\"Best score is {}\".format(neighbour_cv.best_score_))"
   ]
  },
  {
   "cell_type": "markdown",
   "metadata": {},
   "source": [
    "Apart from the `n_neighbors` and `n_jobs` parameters, pick out 1-2 more which you are unfamiliar with and do some research. Explain what they do with language intended for a lay person. You may also wish to spend some time thinking about how you might want to implement such a model algorithmically."
   ]
  },
  {
   "cell_type": "markdown",
   "metadata": {},
   "source": [
    "#### n_neighbours\n",
    "This is for specifying the numbers of nearest data point to be used to take a vote for each point of interest.\n",
    "\n",
    "#### n_jobs\n",
    "This is for specifying the number of parallel jobs to run. It does not affect the score of our model. It affects how fast the model will run.\n",
    "\n",
    "#### algorithm\n",
    "Type of algorithm used to search for the nearest neighbours in the entire dataset. It shouldn't affect the score of the model. It affects how fast the model will run as well.\n",
    "\n",
    "#### weights\n",
    "This is to specify how distances between data points are treated. Whether to treat all distance equally or to take a weighted distance approach, where the closest data points will carry more weights."
   ]
  },
  {
   "cell_type": "markdown",
   "metadata": {},
   "source": [
    "## 4.2 Decision Trees"
   ]
  },
  {
   "cell_type": "markdown",
   "metadata": {},
   "source": [
    "Now we can proceed to a more complicated model, try to tune the hyperparameter of a decision tree regressor."
   ]
  },
  {
   "cell_type": "code",
   "execution_count": 55,
   "metadata": {},
   "outputs": [
    {
     "data": {
      "text/plain": [
       "{'criterion': 'mse',\n",
       " 'max_depth': None,\n",
       " 'max_features': None,\n",
       " 'max_leaf_nodes': None,\n",
       " 'min_impurity_decrease': 0.0,\n",
       " 'min_impurity_split': None,\n",
       " 'min_samples_leaf': 1,\n",
       " 'min_samples_split': 2,\n",
       " 'min_weight_fraction_leaf': 0.0,\n",
       " 'presort': False,\n",
       " 'random_state': None,\n",
       " 'splitter': 'best'}"
      ]
     },
     "execution_count": 55,
     "metadata": {},
     "output_type": "execute_result"
    }
   ],
   "source": [
    "tree.get_params()"
   ]
  },
  {
   "cell_type": "code",
   "execution_count": 70,
   "metadata": {},
   "outputs": [
    {
     "name": "stdout",
     "output_type": "stream",
     "text": [
      "Tuned Decision Tree Parameters: {'max_depth': 6, 'min_samples_leaf': 2, 'min_samples_split': 9}\n",
      "Best score is 0.8093883619811875\n"
     ]
    }
   ],
   "source": [
    "tree_param_grid = {'max_depth': np.arange(1,10), 'min_samples_leaf':np.arange(1,10), 'min_samples_split':np.arange(2,10)}\n",
    "tree_cv = GridSearchCV(tree, tree_param_grid, cv=5)\n",
    "\n",
    "tree_cv.fit(X_selection_train, y_selection_train)\n",
    "\n",
    "print(\"Tuned Decision Tree Parameters: {}\".format(tree_cv.best_params_)) \n",
    "print(\"Best score is {}\".format(tree_cv.best_score_))"
   ]
  },
  {
   "cell_type": "markdown",
   "metadata": {},
   "source": [
    "The linear model also requires tuning, but the current API we are using (linear_model.LinearRegression) is relatively weak and lacks the parameters we are looking for. Instead, we will work with elastic nets, and go beyond linear model complexity to build a better linear regression model. We will look at this in detail in the next session."
   ]
  },
  {
   "cell_type": "markdown",
   "metadata": {},
   "source": [
    "# 5. Feature Selection"
   ]
  },
  {
   "cell_type": "markdown",
   "metadata": {},
   "source": [
    "We will begin by taking the model beyond linearity. In statistical languages more tuned towards modelling like R, we introduce polynomial features/covariates through a parameter within the model, as such:  \n",
    "\n",
    "`lr = lm(y ~ poly(X, 3))`  \n",
    "\n",
    "However, in the context of sklearn, the `LinearRegression` class solely focuses on optimising a set of regression coefficients for you, and does not look at coefficients. We will need to use modules from `sklearn.preprocessing` to help us develop polynomial features.\n",
    "\n",
    "To start off, develop sets of polynomials features to different degrees. It is up to you to decide what power to raise for the features, but keep it mind that high numbers put additional strain on your machine at an exponential rate, so be mindful of what your machine is capable of."
   ]
  },
  {
   "cell_type": "code",
   "execution_count": 57,
   "metadata": {},
   "outputs": [],
   "source": [
    "X_selection = housing_raw.drop('MEDV', axis=1)\n",
    "y_selection = housing_raw['MEDV']\n",
    "X_selection_2 = get_poly_data(X_selection, 2)"
   ]
  },
  {
   "cell_type": "markdown",
   "metadata": {},
   "source": [
    "## 5.1 RFE Feature Selection"
   ]
  },
  {
   "cell_type": "markdown",
   "metadata": {},
   "source": [
    "One way of working with a large quantity of features is by using the Recursive Feature Elimination (RFE) algorithm. The name may provide us with a hint of what it does, but do explain ,with the language for a layperson, what RFE is doing and how it is executed algorithmically. Then, run the code to execute the model."
   ]
  },
  {
   "cell_type": "code",
   "execution_count": 60,
   "metadata": {},
   "outputs": [
    {
     "data": {
      "text/plain": [
       "0.7180927675205194"
      ]
     },
     "execution_count": 60,
     "metadata": {},
     "output_type": "execute_result"
    }
   ],
   "source": [
    "rfe_reg = LinearRegression()\n",
    "rfe = RFE(estimator=rfe_reg, n_features_to_select=30, step=1)\n",
    "rfe.fit(X_selection_train, y_selection_train)\n",
    "rfe.score(X_selection_test, y_selection_test)"
   ]
  },
  {
   "cell_type": "markdown",
   "metadata": {},
   "source": [
    "Fit a linear regression on the model. How can we go beyond the final variables remaining in RFE to further improve the performance of the model?"
   ]
  },
  {
   "cell_type": "markdown",
   "metadata": {},
   "source": [
    "1) The number of features to select can be tuned to control how many variables that RFE choose at the end.\n",
    "2) Cross validation should also be done for choosing the number of features to prevent overfitting to the training data."
   ]
  },
  {
   "cell_type": "markdown",
   "metadata": {},
   "source": [
    "Consider the drawbacks of RFE, and explain them below:"
   ]
  },
  {
   "cell_type": "markdown",
   "metadata": {},
   "source": [
    "RFE is very resource intensive. It runs iteratively and a lot of models are created. It removes a number of worse performing features in each run. As the number of features increases, it will become not feasible to run RFE anymore. "
   ]
  },
  {
   "cell_type": "markdown",
   "metadata": {},
   "source": [
    "## 5.2 Regularisation"
   ]
  },
  {
   "cell_type": "markdown",
   "metadata": {},
   "source": [
    "Another method to reduce model complexity is through regularisation. Regularisation is the idea of penalising large weights as part of the model fitting process, and forcing the model to trade-off between large weights and model accuracy.\n",
    "\n",
    "In your own words, explain why forcing the model to not adapt large weights can somehow help with feature selection and model fitting in general. How does the algorithm help the model to learn to recognise the best set of weights with a regularisation term?"
   ]
  },
  {
   "cell_type": "markdown",
   "metadata": {},
   "source": [
    "In regression models, each of the variables are given a weights as a coefficient. The model is minimised with the weights varied to reach a model with least error. Without a regularisation term, some variables might be given high weights and those variables would dominate the model. This might result in overfitting of the model to those variables. To prevent this, a regularisation term should be used. Each of the weights is multipled by this regularisation term and the model is then minimised with the consideration of this regularisation term. If a certain variable have a large weight, this would give a large total error to the model because the regularisation term is penalising the large weight. Hence to minimise the model, the model would have to try to lower the weight for the variable. This prevents overfitting of the model to certain variables."
   ]
  },
  {
   "cell_type": "markdown",
   "metadata": {},
   "source": [
    "Build a L1 regression model through feature selection by regularisation. Tune your model to achieve optimal results."
   ]
  },
  {
   "cell_type": "code",
   "execution_count": 61,
   "metadata": {},
   "outputs": [
    {
     "name": "stdout",
     "output_type": "stream",
     "text": [
      "Tuned Lasso Parameters: {'alpha': 10, 'max_iter': 100000, 'normalize': False}\n",
      "Best score is 0.8248438772556896\n"
     ]
    }
   ],
   "source": [
    "lasso = Lasso()\n",
    "\n",
    "lasso_param_grid = {'alpha': [1,3,10], 'normalize':[True, False], 'max_iter':[100000,1000000,10000000]}\n",
    "lasso_cv = GridSearchCV(lasso, lasso_param_grid, cv=5)\n",
    "\n",
    "lasso_cv.fit(X_selection_train, y_selection_train)\n",
    "\n",
    "print(\"Tuned Lasso Parameters: {}\".format(lasso_cv.best_params_))\n",
    "print(\"Best score is {}\".format(lasso_cv.best_score_))"
   ]
  },
  {
   "cell_type": "code",
   "execution_count": 62,
   "metadata": {},
   "outputs": [
    {
     "data": {
      "text/plain": [
       "0.7467135073587887"
      ]
     },
     "execution_count": 62,
     "metadata": {},
     "output_type": "execute_result"
    }
   ],
   "source": [
    "lasso_cv.score(X_selection_test, y_selection_test)"
   ]
  },
  {
   "cell_type": "markdown",
   "metadata": {},
   "source": [
    "Repeat this process for a elastic net model."
   ]
  },
  {
   "cell_type": "code",
   "execution_count": 63,
   "metadata": {},
   "outputs": [
    {
     "name": "stderr",
     "output_type": "stream",
     "text": [
      "C:\\Users\\Raymond\\Anaconda3\\lib\\site-packages\\sklearn\\linear_model\\coordinate_descent.py:491: ConvergenceWarning: Objective did not converge. You might want to increase the number of iterations. Fitting data with very small alpha may cause precision problems.\n",
      "  ConvergenceWarning)\n",
      "C:\\Users\\Raymond\\Anaconda3\\lib\\site-packages\\sklearn\\linear_model\\coordinate_descent.py:491: ConvergenceWarning: Objective did not converge. You might want to increase the number of iterations. Fitting data with very small alpha may cause precision problems.\n",
      "  ConvergenceWarning)\n",
      "C:\\Users\\Raymond\\Anaconda3\\lib\\site-packages\\sklearn\\linear_model\\coordinate_descent.py:491: ConvergenceWarning: Objective did not converge. You might want to increase the number of iterations. Fitting data with very small alpha may cause precision problems.\n",
      "  ConvergenceWarning)\n",
      "C:\\Users\\Raymond\\Anaconda3\\lib\\site-packages\\sklearn\\linear_model\\coordinate_descent.py:491: ConvergenceWarning: Objective did not converge. You might want to increase the number of iterations. Fitting data with very small alpha may cause precision problems.\n",
      "  ConvergenceWarning)\n",
      "C:\\Users\\Raymond\\Anaconda3\\lib\\site-packages\\sklearn\\linear_model\\coordinate_descent.py:491: ConvergenceWarning: Objective did not converge. You might want to increase the number of iterations. Fitting data with very small alpha may cause precision problems.\n",
      "  ConvergenceWarning)\n",
      "C:\\Users\\Raymond\\Anaconda3\\lib\\site-packages\\sklearn\\linear_model\\coordinate_descent.py:491: ConvergenceWarning: Objective did not converge. You might want to increase the number of iterations. Fitting data with very small alpha may cause precision problems.\n",
      "  ConvergenceWarning)\n",
      "C:\\Users\\Raymond\\Anaconda3\\lib\\site-packages\\sklearn\\linear_model\\coordinate_descent.py:491: ConvergenceWarning: Objective did not converge. You might want to increase the number of iterations. Fitting data with very small alpha may cause precision problems.\n",
      "  ConvergenceWarning)\n",
      "C:\\Users\\Raymond\\Anaconda3\\lib\\site-packages\\sklearn\\linear_model\\coordinate_descent.py:491: ConvergenceWarning: Objective did not converge. You might want to increase the number of iterations. Fitting data with very small alpha may cause precision problems.\n",
      "  ConvergenceWarning)\n",
      "C:\\Users\\Raymond\\Anaconda3\\lib\\site-packages\\sklearn\\linear_model\\coordinate_descent.py:491: ConvergenceWarning: Objective did not converge. You might want to increase the number of iterations. Fitting data with very small alpha may cause precision problems.\n",
      "  ConvergenceWarning)\n",
      "C:\\Users\\Raymond\\Anaconda3\\lib\\site-packages\\sklearn\\linear_model\\coordinate_descent.py:491: ConvergenceWarning: Objective did not converge. You might want to increase the number of iterations. Fitting data with very small alpha may cause precision problems.\n",
      "  ConvergenceWarning)\n",
      "C:\\Users\\Raymond\\Anaconda3\\lib\\site-packages\\sklearn\\linear_model\\coordinate_descent.py:491: ConvergenceWarning: Objective did not converge. You might want to increase the number of iterations. Fitting data with very small alpha may cause precision problems.\n",
      "  ConvergenceWarning)\n",
      "C:\\Users\\Raymond\\Anaconda3\\lib\\site-packages\\sklearn\\linear_model\\coordinate_descent.py:491: ConvergenceWarning: Objective did not converge. You might want to increase the number of iterations. Fitting data with very small alpha may cause precision problems.\n",
      "  ConvergenceWarning)\n",
      "C:\\Users\\Raymond\\Anaconda3\\lib\\site-packages\\sklearn\\linear_model\\coordinate_descent.py:491: ConvergenceWarning: Objective did not converge. You might want to increase the number of iterations. Fitting data with very small alpha may cause precision problems.\n",
      "  ConvergenceWarning)\n",
      "C:\\Users\\Raymond\\Anaconda3\\lib\\site-packages\\sklearn\\linear_model\\coordinate_descent.py:491: ConvergenceWarning: Objective did not converge. You might want to increase the number of iterations. Fitting data with very small alpha may cause precision problems.\n",
      "  ConvergenceWarning)\n",
      "C:\\Users\\Raymond\\Anaconda3\\lib\\site-packages\\sklearn\\linear_model\\coordinate_descent.py:491: ConvergenceWarning: Objective did not converge. You might want to increase the number of iterations. Fitting data with very small alpha may cause precision problems.\n",
      "  ConvergenceWarning)\n",
      "C:\\Users\\Raymond\\Anaconda3\\lib\\site-packages\\sklearn\\linear_model\\coordinate_descent.py:491: ConvergenceWarning: Objective did not converge. You might want to increase the number of iterations. Fitting data with very small alpha may cause precision problems.\n",
      "  ConvergenceWarning)\n",
      "C:\\Users\\Raymond\\Anaconda3\\lib\\site-packages\\sklearn\\linear_model\\coordinate_descent.py:491: ConvergenceWarning: Objective did not converge. You might want to increase the number of iterations. Fitting data with very small alpha may cause precision problems.\n",
      "  ConvergenceWarning)\n",
      "C:\\Users\\Raymond\\Anaconda3\\lib\\site-packages\\sklearn\\linear_model\\coordinate_descent.py:491: ConvergenceWarning: Objective did not converge. You might want to increase the number of iterations. Fitting data with very small alpha may cause precision problems.\n",
      "  ConvergenceWarning)\n",
      "C:\\Users\\Raymond\\Anaconda3\\lib\\site-packages\\sklearn\\linear_model\\coordinate_descent.py:491: ConvergenceWarning: Objective did not converge. You might want to increase the number of iterations. Fitting data with very small alpha may cause precision problems.\n",
      "  ConvergenceWarning)\n",
      "C:\\Users\\Raymond\\Anaconda3\\lib\\site-packages\\sklearn\\linear_model\\coordinate_descent.py:491: ConvergenceWarning: Objective did not converge. You might want to increase the number of iterations. Fitting data with very small alpha may cause precision problems.\n",
      "  ConvergenceWarning)\n"
     ]
    },
    {
     "name": "stdout",
     "output_type": "stream",
     "text": [
      "Tuned Elastic Net Parameters: {'alpha': 1, 'l1_ratio': 0.5, 'max_iter': 1000000}\n",
      "Best score is 0.826378096781149\n"
     ]
    }
   ],
   "source": [
    "elastic = ElasticNet()\n",
    "\n",
    "elastic_param_grid = {'alpha': [0.1,1], 'l1_ratio': np.linspace(0,1,3), 'max_iter':[1000,1000000]}\n",
    "elastic_cv = GridSearchCV(elastic, elastic_param_grid, cv=5)\n",
    "\n",
    "elastic_cv.fit(X_selection_train, y_selection_train)\n",
    "\n",
    "print(\"Tuned Elastic Net Parameters: {}\".format(elastic_cv.best_params_))\n",
    "print(\"Best score is {}\".format(elastic_cv.best_score_))"
   ]
  },
  {
   "cell_type": "code",
   "execution_count": 65,
   "metadata": {},
   "outputs": [
    {
     "data": {
      "text/plain": [
       "0.7664562575950212"
      ]
     },
     "execution_count": 65,
     "metadata": {},
     "output_type": "execute_result"
    }
   ],
   "source": [
    "elastic_cv.score(X_selection_test, y_selection_test)"
   ]
  },
  {
   "cell_type": "markdown",
   "metadata": {},
   "source": [
    "Consider the differences between each type of regression - in this case, which is a superior model to use?"
   ]
  },
  {
   "cell_type": "markdown",
   "metadata": {},
   "source": [
    "Lasso considers only L1 regularisation whereas Elastic Net considers L1 and L2 as a ratio. When tuning the Elastic Net, both pure L1 and pure L2 are considered while doing the grid search. Hence Lasso becomes like a subset of Elastic Net when doing a grid search. So a tuned Elastic Net is likely better or at least perform equally well as a tuned Lasso. The down side is tuning an Elastic Net will be more resource intensive.\n",
    "\n",
    "In addition, Lasso is sensitive to correlation between features and might select randomly 1 out of 2 correlated features while elastic net is likely to keep both and give a more stable model. "
   ]
  },
  {
   "cell_type": "markdown",
   "metadata": {},
   "source": [
    "For ease of use, build pipelines using `sklearn.pipeline` so that these models can be better consumed later for meta-model ensembling."
   ]
  },
  {
   "cell_type": "code",
   "execution_count": 64,
   "metadata": {},
   "outputs": [],
   "source": [
    "rfeSteps = [('rfe', RFE(estimator=LinearRegression(), n_features_to_select=30, step=1))]\n",
    "\n",
    "rfePipeline = Pipeline(rfeSteps)\n",
    "\n",
    "lassoSteps = [('lasso', ElasticNet(alpha=10,normalize=False,max_iter=100000))]\n",
    "\n",
    "lassoPipeline = Pipeline(lassoSteps)\n",
    "\n",
    "elasticSteps = [('elasticnet', ElasticNet())]\n",
    "\n",
    "elasticPipeline = Pipeline(elasticSteps)"
   ]
  },
  {
   "cell_type": "markdown",
   "metadata": {},
   "source": [
    "How do RFE and regularisation-based models compare? Think about the strengths and weaknesses of regularisation, as compared to RFE."
   ]
  },
  {
   "cell_type": "markdown",
   "metadata": {},
   "source": [
    "RFE iteratively remove features. The assumption is that the worse performing features during training does not or should not contribute to the model. However, if those features matter in the unseen dataset, this will result in a model that is not accurate. In regularisation, all the features are treated to have some contribution to the model ultimately. Weights are assigned and model minimised. Unimportant features will be given low weights or even 0. The model will vary the weights and drop off some features if need, so we do not have to make any assumptions on how many features to drop."
   ]
  },
  {
   "cell_type": "markdown",
   "metadata": {},
   "source": [
    "# 6. Ensemble methods"
   ]
  },
  {
   "cell_type": "markdown",
   "metadata": {},
   "source": [
    "Ensembling is the process of combining prediction models to improve overall performence. In this section, we'll look at various ways this can be done to achieve better resultings."
   ]
  },
  {
   "cell_type": "markdown",
   "metadata": {},
   "source": [
    "## 6.1 Bagging"
   ]
  },
  {
   "cell_type": "markdown",
   "metadata": {},
   "source": [
    "The term \"bag\" is the abbreviation for \"bootstrap aggregation\", in which we build a boostrap for a dataset, then train a model for each dataset we produce, after which we aggregate the score. If you are not yet familiar with any of these concepts, do some research and appreciate the process. We will not go into detail here as we already have done that last week."
   ]
  },
  {
   "cell_type": "markdown",
   "metadata": {},
   "source": [
    "Using your tuned Decision Tree model from a previous section as the base model, implement and tune a model with bagging technique. Compare this result with a random forest model built from scratch."
   ]
  },
  {
   "cell_type": "code",
   "execution_count": 73,
   "metadata": {},
   "outputs": [
    {
     "name": "stdout",
     "output_type": "stream",
     "text": [
      "Tuned Bagging Regressor Parameters: {'max_features': 1.0, 'max_samples': 1.0, 'n_estimators': 8}\n",
      "Best score is 0.8522318013567997\n"
     ]
    }
   ],
   "source": [
    "tree = DecisionTreeRegressor(max_depth=6, min_samples_leaf=2, min_samples_split=9)\n",
    "\n",
    "baggingRegressor = BaggingRegressor(base_estimator=tree)\n",
    "\n",
    "bagging_param_grid = {'n_estimators': np.arange(1,10), 'max_samples':[0.6,0.8,1.0], 'max_features':[0.6,0.8,1.0]}\n",
    "bagging_cv = GridSearchCV(baggingRegressor, bagging_param_grid, cv=5)\n",
    "\n",
    "bagging_cv.fit(X_selection_train, y_selection_train)\n",
    "\n",
    "print(\"Tuned Bagging Regressor Parameters: {}\".format(bagging_cv.best_params_))\n",
    "print(\"Best score is {}\".format(bagging_cv.best_score_))"
   ]
  },
  {
   "cell_type": "code",
   "execution_count": 74,
   "metadata": {},
   "outputs": [
    {
     "data": {
      "text/plain": [
       "0.7607302484242205"
      ]
     },
     "execution_count": 74,
     "metadata": {},
     "output_type": "execute_result"
    }
   ],
   "source": [
    "bagging_cv.score(X_selection_test, y_selection_test)"
   ]
  },
  {
   "cell_type": "code",
   "execution_count": 78,
   "metadata": {},
   "outputs": [
    {
     "name": "stdout",
     "output_type": "stream",
     "text": [
      "Tuned Bagging Regressor Parameters: {'max_depth': 9, 'min_samples_leaf': 1, 'n_estimators': 9}\n",
      "Best score is 0.8674942657451604\n"
     ]
    }
   ],
   "source": [
    "forest = RandomForestRegressor()\n",
    "\n",
    "forest_param_grid = {'n_estimators': np.arange(1,10), 'max_depth':np.arange(5,10), 'min_samples_leaf':np.arange(1,5)}\n",
    "forest_cv = GridSearchCV(forest, forest_param_grid, cv=5)\n",
    "\n",
    "forest_cv.fit(X_selection_train, y_selection_train)\n",
    "\n",
    "print(\"Tuned Bagging Regressor Parameters: {}\".format(forest_cv.best_params_))\n",
    "print(\"Best score is {}\".format(forest_cv.best_score_))"
   ]
  },
  {
   "cell_type": "code",
   "execution_count": 79,
   "metadata": {},
   "outputs": [
    {
     "data": {
      "text/plain": [
       "0.8008550583659844"
      ]
     },
     "execution_count": 79,
     "metadata": {},
     "output_type": "execute_result"
    }
   ],
   "source": [
    "forest_cv.score(X_selection_test, y_selection_test)"
   ]
  },
  {
   "cell_type": "markdown",
   "metadata": {},
   "source": [
    "## 6.2 Boosting"
   ]
  },
  {
   "cell_type": "markdown",
   "metadata": {},
   "source": [
    "Boosting, as explained earlier this week, uses an aggregation of weak learners to reduce the total variance. It operates on a single model sequentially. At each iteration, it tries to rectify the errors made in the previous iteration.\n",
    "\n",
    "a) Explain the term \"weak learner\".  \n",
    "b) Explain how adaptive boosting (AdaBoost) and gradient boosting (GBM) work and highlight their differences."
   ]
  },
  {
   "cell_type": "markdown",
   "metadata": {},
   "source": [
    "#### Answer to a) \n",
    "Weak learners are models that are slightly better than random guessing. There are observations that the weak learner have difficulty in guessing."
   ]
  },
  {
   "cell_type": "markdown",
   "metadata": {},
   "source": [
    "#### Answer to b)\n",
    "AdaBoost works by building an initial model of decision stumps (single split trees). Those data points that are difficult to be predicted by the model are given more weights. Subsequent new weak learners will focus more on those data points that were predicted wrongly. This cycle repeats.\n",
    "\n",
    "Gradient boosting is also made up of an aggregates of weak learners. The model is addictive in that weak learners are added 1 at a time and existing weak learners in the model are not changed. A gradient descent procedure is used to minimise the loss when adding trees. The new weak learner added will have its parameters selected that further reduces the loss of the model.\n",
    "\n",
    "The different between the 2 is that, AdaBoost give weights to data points that are not predicted correctly in the previous run so that in subsequent run, more focus is given to those data points. However for gradient boosting, the goal is to minimise a loss function. New weak learners that are added will reduce the loss."
   ]
  },
  {
   "cell_type": "markdown",
   "metadata": {},
   "source": [
    "Perform AdaBoost and Gradient Boosting on Boston, and compare the accuracies. Comment on the performances as well."
   ]
  },
  {
   "cell_type": "code",
   "execution_count": 85,
   "metadata": {},
   "outputs": [
    {
     "name": "stdout",
     "output_type": "stream",
     "text": [
      "Tuned Bagging Regressor Parameters: {'learning_rate': 1.0, 'n_estimators': 30}\n",
      "Best score is 0.8448561923732236\n"
     ]
    }
   ],
   "source": [
    "ada = AdaBoostRegressor()\n",
    "\n",
    "ada_param_grid = {'n_estimators': [30,50,70], 'learning_rate':[0.1,1.0,10.0]}\n",
    "ada_cv = GridSearchCV(ada, ada_param_grid, cv=5)\n",
    "\n",
    "ada_cv.fit(X_selection_train, y_selection_train)\n",
    "\n",
    "print(\"Tuned Bagging Regressor Parameters: {}\".format(ada_cv.best_params_))\n",
    "print(\"Best score is {}\".format(ada_cv.best_score_))"
   ]
  },
  {
   "cell_type": "code",
   "execution_count": 86,
   "metadata": {},
   "outputs": [
    {
     "data": {
      "text/plain": [
       "0.727032413099004"
      ]
     },
     "execution_count": 86,
     "metadata": {},
     "output_type": "execute_result"
    }
   ],
   "source": [
    "ada_cv.score(X_selection_test, y_selection_test)"
   ]
  },
  {
   "cell_type": "code",
   "execution_count": 87,
   "metadata": {},
   "outputs": [
    {
     "name": "stdout",
     "output_type": "stream",
     "text": [
      "Tuned Bagging Regressor Parameters: {'learning_rate': 0.1, 'n_estimators': 100}\n",
      "Best score is 0.8855408379069024\n"
     ]
    }
   ],
   "source": [
    "gradBoost = GradientBoostingRegressor()\n",
    "\n",
    "gradBoost_param_grid = {'n_estimators': [50,100,150], 'learning_rate':[0.01,0.1,1.0]}\n",
    "gradBoost_cv = GridSearchCV(gradBoost, gradBoost_param_grid, cv=5)\n",
    "\n",
    "gradBoost_cv.fit(X_selection_train, y_selection_train)\n",
    "\n",
    "print(\"Tuned Bagging Regressor Parameters: {}\".format(gradBoost_cv.best_params_))\n",
    "print(\"Best score is {}\".format(gradBoost_cv.best_score_))"
   ]
  },
  {
   "cell_type": "code",
   "execution_count": 88,
   "metadata": {},
   "outputs": [
    {
     "data": {
      "text/plain": [
       "0.7757291221524532"
      ]
     },
     "execution_count": 88,
     "metadata": {},
     "output_type": "execute_result"
    }
   ],
   "source": [
    "gradBoost_cv.score(X_selection_test, y_selection_test)"
   ]
  },
  {
   "cell_type": "markdown",
   "metadata": {},
   "source": [
    "Gradient boosting appears to perform better than adaboost. But there are more parameters that could be tuned for both models to improve their performance. However due to limited laptop capability, only a small subset of parameters and a limited range for them were used for tuning."
   ]
  },
  {
   "cell_type": "markdown",
   "metadata": {},
   "source": [
    "In practice, we use an XGBoost (eXtreme Gradient Boosting) model, which outperforms typical boosting models due to its ability to be parallelized AND having the appropriate tunable regularisation and tree parameters. Try reading up the documentation on `xgboost` and tune an `xgboost model`."
   ]
  },
  {
   "cell_type": "code",
   "execution_count": 94,
   "metadata": {},
   "outputs": [
    {
     "name": "stdout",
     "output_type": "stream",
     "text": [
      "Tuned Bagging Regressor Parameters: {'alpha': 5, 'colsample_bytree': 0.3, 'learning_rate': 1.0, 'max_depth': 5, 'n_estimators': 5}\n",
      "Best score is 0.7526109796948981\n"
     ]
    }
   ],
   "source": [
    "xg_reg = xgb.XGBRegressor(objective ='reg:linear')\n",
    "\n",
    "xg_reg_param_grid = {'n_estimators': [5,10,15], 'learning_rate':[0.01,0.1,1.0], 'alpha':[5,10,15], 'max_depth':[5,7], 'colsample_bytree':[0.2,0.3]}\n",
    "xg_reg_cv = GridSearchCV(xg_reg, xg_reg_param_grid, cv=5)\n",
    "\n",
    "xg_reg_cv.fit(X_selection_train, y_selection_train)\n",
    "\n",
    "print(\"Tuned Bagging Regressor Parameters: {}\".format(xg_reg_cv.best_params_))\n",
    "print(\"Best score is {}\".format(xg_reg_cv.best_score_))"
   ]
  },
  {
   "cell_type": "code",
   "execution_count": 95,
   "metadata": {},
   "outputs": [
    {
     "data": {
      "text/plain": [
       "0.746005661463616"
      ]
     },
     "execution_count": 95,
     "metadata": {},
     "output_type": "execute_result"
    }
   ],
   "source": [
    "xg_reg_cv.score(X_selection_test, y_selection_test)"
   ]
  },
  {
   "cell_type": "markdown",
   "metadata": {},
   "source": [
    "## 6.3 Stacking"
   ]
  },
  {
   "cell_type": "markdown",
   "metadata": {},
   "source": [
    "Finally, stacking helps us bring all the models we have done from all the past attempts into one big model. Before this, we have been evaluating models at an individual level. How can we best bring the performance of all these models together, into one even stronger model?\n",
    "\n",
    "One such approach is stacking. Stacking is building a meta-level model that can take the results of each model, and combine them in an appropriate manner to create a even stronger model. Stacking-based meta-models have seen [success on modelling competitions](https://blogs.sas.com/content/subconsciousmusings/2017/05/18/stacked-ensemble-models-win-data-science-competitions/) in recent years, due to availability of compute power to data scientists.\n",
    "\n",
    "Build a linear regression meta model stacking on top of all the models you've built so far. Report on your accuracy - this is the final accuracy we are looking at."
   ]
  },
  {
   "cell_type": "code",
   "execution_count": null,
   "metadata": {},
   "outputs": [],
   "source": []
  },
  {
   "cell_type": "markdown",
   "metadata": {},
   "source": [
    "ref for implementing stacking: https://machinelearningmastery.com/implementing-stacking-scratch-python/"
   ]
  },
  {
   "cell_type": "markdown",
   "metadata": {},
   "source": [
    "We can observe that the minimum MSE corresponds to the point where the balance between bias and variance is met. MSE is accessible by us. This is the reason why cross-validation and outsample test methods used in Week 1 can be used not only for validation, but also for us to tune our model complexity. In the following sections, we will explore how we use them to guide model selection, hyperparameter tuning, regularisation and ensemble methods; all to get the best generalisation capability possible (i.e. the balancing act)."
   ]
  },
  {
   "cell_type": "markdown",
   "metadata": {},
   "source": [
    "# Congratulations! \n",
    "### You have reached the end of our notebook :)\n",
    "#### Now what?\n",
    "If you still have time and you're considering what would be the best use of it, <br>\n",
    "please continue and try your luck with the next (and optional) section of the notebook.<br>\n",
    "Alternatively, if you have yet to completed the previous notebook, or if there are parts you wish to go back to and revisit/revise/tune or read up more about, feel free to do so..."
   ]
  },
  {
   "cell_type": "markdown",
   "metadata": {},
   "source": [
    "<img src=\"./Fireworks.jpg\">"
   ]
  },
  {
   "cell_type": "markdown",
   "metadata": {},
   "source": [
    "# 7. Other directions (Optional)"
   ]
  },
  {
   "cell_type": "markdown",
   "metadata": {},
   "source": [
    "1. Try and repeat the notebook's process, only this time use classification models/problem instead of regression.\n",
    "2. Bias-variance is only one means of model profiling we looked into in this notebookt. Try to research and look into  other measures of model profiling, i.e. by vc dimension, induction bias, empirical risk minimisation.\n"
   ]
  }
 ],
 "metadata": {
  "kernelspec": {
   "display_name": "Python 3",
   "language": "python",
   "name": "python3"
  },
  "language_info": {
   "codemirror_mode": {
    "name": "ipython",
    "version": 3
   },
   "file_extension": ".py",
   "mimetype": "text/x-python",
   "name": "python",
   "nbconvert_exporter": "python",
   "pygments_lexer": "ipython3",
   "version": "3.7.0"
  }
 },
 "nbformat": 4,
 "nbformat_minor": 2
}
